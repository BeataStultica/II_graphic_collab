{
  "nbformat": 4,
  "nbformat_minor": 0,
  "metadata": {
    "colab": {
      "name": "Laba7.ipynb",
      "provenance": [],
      "collapsed_sections": [],
      "authorship_tag": "ABX9TyMAgGenddmWELSCCsqcsJlE",
      "include_colab_link": true
    },
    "kernelspec": {
      "name": "python3",
      "display_name": "Python 3"
    },
    "language_info": {
      "name": "python"
    }
  },
  "cells": [
    {
      "cell_type": "markdown",
      "metadata": {
        "id": "view-in-github",
        "colab_type": "text"
      },
      "source": [
        "<a href=\"https://colab.research.google.com/github/BeataStultica/II_graphic_collab/blob/main/Laba7.ipynb\" target=\"_parent\"><img src=\"https://colab.research.google.com/assets/colab-badge.svg\" alt=\"Open In Colab\"/></a>"
      ]
    },
    {
      "cell_type": "code",
      "execution_count": 3,
      "metadata": {
        "colab": {
          "base_uri": "https://localhost:8080/"
        },
        "id": "wHXN8wHq17g6",
        "outputId": "e8b2f873-3b64-43d7-d8d0-4020db2c539a"
      },
      "outputs": [
        {
          "output_type": "stream",
          "name": "stdout",
          "text": [
            "Model: \"sequential_1\"\n",
            "_________________________________________________________________\n",
            " Layer (type)                Output Shape              Param #   \n",
            "=================================================================\n",
            " conv2d (Conv2D)             (None, 54, 54, 96)        34944     \n",
            "                                                                 \n",
            " activation (Activation)     (None, 54, 54, 96)        0         \n",
            "                                                                 \n",
            " max_pooling2d (MaxPooling2D  (None, 27, 27, 96)       0         \n",
            " )                                                               \n",
            "                                                                 \n",
            " conv2d_1 (Conv2D)           (None, 17, 17, 256)       2973952   \n",
            "                                                                 \n",
            " activation_1 (Activation)   (None, 17, 17, 256)       0         \n",
            "                                                                 \n",
            " max_pooling2d_1 (MaxPooling  (None, 8, 8, 256)        0         \n",
            " 2D)                                                             \n",
            "                                                                 \n",
            " conv2d_2 (Conv2D)           (None, 6, 6, 384)         885120    \n",
            "                                                                 \n",
            " activation_2 (Activation)   (None, 6, 6, 384)         0         \n",
            "                                                                 \n",
            " conv2d_3 (Conv2D)           (None, 4, 4, 384)         1327488   \n",
            "                                                                 \n",
            " activation_3 (Activation)   (None, 4, 4, 384)         0         \n",
            "                                                                 \n",
            " conv2d_4 (Conv2D)           (None, 2, 2, 256)         884992    \n",
            "                                                                 \n",
            " activation_4 (Activation)   (None, 2, 2, 256)         0         \n",
            "                                                                 \n",
            " max_pooling2d_2 (MaxPooling  (None, 1, 1, 256)        0         \n",
            " 2D)                                                             \n",
            "                                                                 \n",
            " flatten (Flatten)           (None, 256)               0         \n",
            "                                                                 \n",
            " dense (Dense)               (None, 4096)              1052672   \n",
            "                                                                 \n",
            " activation_5 (Activation)   (None, 4096)              0         \n",
            "                                                                 \n",
            " dropout (Dropout)           (None, 4096)              0         \n",
            "                                                                 \n",
            " dense_1 (Dense)             (None, 4096)              16781312  \n",
            "                                                                 \n",
            " activation_6 (Activation)   (None, 4096)              0         \n",
            "                                                                 \n",
            " dropout_1 (Dropout)         (None, 4096)              0         \n",
            "                                                                 \n",
            " dense_2 (Dense)             (None, 1000)              4097000   \n",
            "                                                                 \n",
            " activation_7 (Activation)   (None, 1000)              0         \n",
            "                                                                 \n",
            " dropout_2 (Dropout)         (None, 1000)              0         \n",
            "                                                                 \n",
            " dense_3 (Dense)             (None, 17)                17017     \n",
            "                                                                 \n",
            " activation_8 (Activation)   (None, 17)                0         \n",
            "                                                                 \n",
            "=================================================================\n",
            "Total params: 28,054,497\n",
            "Trainable params: 28,054,497\n",
            "Non-trainable params: 0\n",
            "_________________________________________________________________\n"
          ]
        }
      ],
      "source": [
        "import keras\n",
        "from keras.models import Sequential\n",
        "from keras.layers import Dense, Activation, Dropout, Flatten, Conv2D, MaxPooling2D\n",
        "from keras.layers import BatchNormalization\n",
        "#from keras.layers.normalization import BatchNormalization\n",
        "import numpy as np\n",
        "\n",
        "np.random.seed(1000)\n",
        "\n",
        "model = Sequential()\n",
        "\n",
        "model.add(Conv2D(filters=96, input_shape=(224,224,3), kernel_size=(11,11), strides=(4,4), padding='valid'))\n",
        "model.add(Activation('relu'))\n",
        "\n",
        "model.add(MaxPooling2D(pool_size=(2,2), strides=(2,2), padding='valid'))\n",
        "\n",
        "model.add(Conv2D(filters=256, kernel_size=(11,11), strides=(1,1), padding='valid'))\n",
        "model.add(Activation('relu'))\n",
        "\n",
        "model.add(MaxPooling2D(pool_size=(2,2), strides=(2,2), padding='valid'))\n",
        "\n",
        "model.add(Conv2D(filters=384, kernel_size=(3,3), strides=(1,1), padding='valid'))\n",
        "model.add(Activation('relu'))\n",
        "\n",
        "model.add(Conv2D(filters=384, kernel_size=(3,3), strides=(1,1), padding='valid'))\n",
        "model.add(Activation('relu'))\n",
        "\n",
        "model.add(Conv2D(filters=256, kernel_size=(3,3), strides=(1,1), padding='valid'))\n",
        "model.add(Activation('relu'))\n",
        "\n",
        "model.add(MaxPooling2D(pool_size=(2,2), strides=(2,2), padding='valid'))\n",
        "\n",
        "model.add(Flatten())\n",
        "\n",
        "model.add(Dense(4096, input_shape=(224*224*3,)))\n",
        "model.add(Activation('relu'))\n",
        "\n",
        "model.add(Dropout(0.4))\n",
        "\n",
        "model.add(Dense(4096 ))\n",
        "model.add(Activation('relu'))\n",
        "\n",
        "model.add(Dropout(0.4))\n",
        "\n",
        "model.add(Dense(1000))\n",
        "model.add(Activation('relu'))\n",
        "\n",
        "model.add(Dropout(0.4))\n",
        "\n",
        "model.add(Dense(17))\n",
        "model.add(Activation('softmax'))\n",
        "model.summary()\n",
        "\n",
        "model.compile(loss=keras.losses.categorical_crossentropy, optimizer='adam', metrics=['accuracy'])\n",
        "\n"
      ]
    },
    {
      "cell_type": "code",
      "source": [
        "from keras.preprocessing.image import ImageDataGenerator\n",
        "from keras.models import Sequential\n",
        "from keras.layers import Conv2D, MaxPool2D\n",
        "from keras.layers import Activation, Dropout, Flatten, Dense\n",
        "from keras import backend as K"
      ],
      "metadata": {
        "id": "5u9gcNkiBgsS"
      },
      "execution_count": 4,
      "outputs": []
    },
    {
      "cell_type": "code",
      "source": [
        "img_width, img_height = 224, 224\n",
        "train_data_dir = '/content/gdrive/MyDrive/v_data/train/'\n",
        "validation_data_dir = '/content/gdrive/MyDrive/v_data/test/'\n",
        "nb_train_samples = 400\n",
        "nb_validation_samples = 100\n",
        "epochs = 10\n",
        "batch_size = 16\n",
        "if K.image_data_format() == 'channels_first':\n",
        "  input_shape = (3, img_width, img_height)\n",
        "else:\n",
        "  input_shape = (img_width, img_height, 3)\n",
        "\n",
        "model2 = Sequential()\n",
        "model2.add(Conv2D(filters=32, input_shape=input_shape, kernel_size=(2,2)))\n",
        "model2.add(Activation('relu'))\n",
        "model2.add(MaxPooling2D(pool_size=(2,2)))\n",
        "\n",
        "\n",
        "model2.add(Conv2D(filters=32, kernel_size=(2,2)))\n",
        "model2.add(Activation('relu'))\n",
        "model2.add(MaxPooling2D(pool_size=(2,2)))\n",
        "\n",
        "\n",
        "model2.add(Conv2D(filters=64, kernel_size=(2,2)))\n",
        "model2.add(Activation('relu'))\n",
        "model2.add(MaxPooling2D(pool_size=(2,2)))\n",
        "\n",
        "model2.add(Flatten())\n",
        "\n",
        "model2.add(Dense(64))\n",
        "model2.add(Activation('relu'))\n",
        "\n",
        "\n",
        "model2.add(Dense(1))\n",
        "\n",
        "model2.add(Activation('sigmoid'))\n",
        "model2.summary()\n",
        "\n",
        "model2.compile(loss='binary_crossentropy', optimizer='rmsprop', metrics=['accuracy'])"
      ],
      "metadata": {
        "colab": {
          "base_uri": "https://localhost:8080/"
        },
        "id": "1JWGXiuXA-cw",
        "outputId": "3ae004da-74b9-467c-8cf7-3fc2c3082c49"
      },
      "execution_count": 17,
      "outputs": [
        {
          "output_type": "stream",
          "name": "stdout",
          "text": [
            "Model: \"sequential_7\"\n",
            "_________________________________________________________________\n",
            " Layer (type)                Output Shape              Param #   \n",
            "=================================================================\n",
            " conv2d_20 (Conv2D)          (None, 223, 223, 32)      416       \n",
            "                                                                 \n",
            " activation_34 (Activation)  (None, 223, 223, 32)      0         \n",
            "                                                                 \n",
            " max_pooling2d_18 (MaxPoolin  (None, 111, 111, 32)     0         \n",
            " g2D)                                                            \n",
            "                                                                 \n",
            " conv2d_21 (Conv2D)          (None, 110, 110, 32)      4128      \n",
            "                                                                 \n",
            " activation_35 (Activation)  (None, 110, 110, 32)      0         \n",
            "                                                                 \n",
            " max_pooling2d_19 (MaxPoolin  (None, 55, 55, 32)       0         \n",
            " g2D)                                                            \n",
            "                                                                 \n",
            " conv2d_22 (Conv2D)          (None, 54, 54, 64)        8256      \n",
            "                                                                 \n",
            " activation_36 (Activation)  (None, 54, 54, 64)        0         \n",
            "                                                                 \n",
            " max_pooling2d_20 (MaxPoolin  (None, 27, 27, 64)       0         \n",
            " g2D)                                                            \n",
            "                                                                 \n",
            " flatten_6 (Flatten)         (None, 46656)             0         \n",
            "                                                                 \n",
            " dense_14 (Dense)            (None, 64)                2986048   \n",
            "                                                                 \n",
            " activation_37 (Activation)  (None, 64)                0         \n",
            "                                                                 \n",
            " dense_15 (Dense)            (None, 1)                 65        \n",
            "                                                                 \n",
            " activation_38 (Activation)  (None, 1)                 0         \n",
            "                                                                 \n",
            "=================================================================\n",
            "Total params: 2,998,913\n",
            "Trainable params: 2,998,913\n",
            "Non-trainable params: 0\n",
            "_________________________________________________________________\n"
          ]
        }
      ]
    },
    {
      "cell_type": "code",
      "source": [
        "from google.colab import drive\n",
        "\n",
        "drive.mount(\"/content/gdrive\", force_remount=True)\n",
        "\n",
        "train_datagen = ImageDataGenerator(rescale=1./255, shear_range=0.2, zoom_range=0.2, horizontal_flip=True)\n",
        "test_datagen = ImageDataGenerator(rescale=1./255)\n",
        "\n",
        "train_generator = train_datagen.flow_from_directory(train_data_dir, target_size=(img_width, img_height), batch_size=batch_size, class_mode='binary')\n",
        "validation_generator = test_datagen.flow_from_directory(validation_data_dir, target_size=(img_width, img_height), batch_size=batch_size, class_mode='binary')\n"
      ],
      "metadata": {
        "colab": {
          "base_uri": "https://localhost:8080/"
        },
        "id": "MDa9L39pDpvs",
        "outputId": "7189d5e8-a682-4de9-c846-6aa041eb85a9"
      },
      "execution_count": 18,
      "outputs": [
        {
          "output_type": "stream",
          "name": "stdout",
          "text": [
            "Mounted at /content/gdrive\n",
            "Found 400 images belonging to 2 classes.\n",
            "Found 100 images belonging to 2 classes.\n"
          ]
        }
      ]
    },
    {
      "cell_type": "code",
      "source": [
        "model2.fit_generator(train_generator, steps_per_epoch=nb_train_samples//batch_size,\n",
        "                     epochs=epochs, validation_data=validation_generator, \n",
        "                     validation_steps=nb_validation_samples//batch_size)\n",
        "model2.save('laba7_binary.h5')"
      ],
      "metadata": {
        "colab": {
          "base_uri": "https://localhost:8080/"
        },
        "id": "lZ_HUEXIE69t",
        "outputId": "3249e782-75af-4f0d-c37e-a41a54485b7e"
      },
      "execution_count": 19,
      "outputs": [
        {
          "output_type": "stream",
          "name": "stderr",
          "text": [
            "/usr/local/lib/python3.7/dist-packages/ipykernel_launcher.py:3: UserWarning: `Model.fit_generator` is deprecated and will be removed in a future version. Please use `Model.fit`, which supports generators.\n",
            "  This is separate from the ipykernel package so we can avoid doing imports until\n"
          ]
        },
        {
          "output_type": "stream",
          "name": "stdout",
          "text": [
            "Epoch 1/10\n",
            "25/25 [==============================] - 100s 4s/step - loss: 0.9960 - accuracy: 0.6250 - val_loss: 0.6485 - val_accuracy: 0.5938\n",
            "Epoch 2/10\n",
            "25/25 [==============================] - 23s 909ms/step - loss: 0.5856 - accuracy: 0.7025 - val_loss: 0.4085 - val_accuracy: 0.9062\n",
            "Epoch 3/10\n",
            "25/25 [==============================] - 22s 875ms/step - loss: 0.5263 - accuracy: 0.7550 - val_loss: 0.3530 - val_accuracy: 0.8646\n",
            "Epoch 4/10\n",
            "25/25 [==============================] - 23s 904ms/step - loss: 0.4077 - accuracy: 0.8300 - val_loss: 0.6440 - val_accuracy: 0.6875\n",
            "Epoch 5/10\n",
            "25/25 [==============================] - 24s 931ms/step - loss: 0.3891 - accuracy: 0.8450 - val_loss: 0.5636 - val_accuracy: 0.7917\n",
            "Epoch 6/10\n",
            "25/25 [==============================] - 23s 908ms/step - loss: 0.3595 - accuracy: 0.8625 - val_loss: 0.2983 - val_accuracy: 0.8542\n",
            "Epoch 7/10\n",
            "25/25 [==============================] - 24s 958ms/step - loss: 0.3261 - accuracy: 0.8675 - val_loss: 0.3867 - val_accuracy: 0.8125\n",
            "Epoch 8/10\n",
            "25/25 [==============================] - 24s 959ms/step - loss: 0.3279 - accuracy: 0.8800 - val_loss: 0.4079 - val_accuracy: 0.8021\n",
            "Epoch 9/10\n",
            "25/25 [==============================] - 24s 961ms/step - loss: 0.2920 - accuracy: 0.9000 - val_loss: 0.6017 - val_accuracy: 0.7917\n",
            "Epoch 10/10\n",
            "25/25 [==============================] - 24s 947ms/step - loss: 0.3220 - accuracy: 0.8750 - val_loss: 0.2829 - val_accuracy: 0.8646\n"
          ]
        }
      ]
    },
    {
      "cell_type": "markdown",
      "source": [
        "# Preprocessing"
      ],
      "metadata": {
        "id": "LBwtF0ncGpPA"
      }
    },
    {
      "cell_type": "code",
      "source": [
        "import cv2\n",
        "import random\n",
        "from imutils import paths\n",
        "import os\n",
        "data = []\n",
        "labels = []\n",
        "\n",
        "imagePaths = list(paths.list_images(\"/content/gdrive/MyDrive/animals\"))\n",
        "print(imagePaths)\n",
        "random.seed(42)\n",
        "random.shuffle(imagePaths)\n",
        "for imagePath in imagePaths:\n",
        "  image = cv2.imread(imagePath)\n",
        "  image = cv2.resize(image, (32,32)).flatten()\n",
        "  data.append(image)\n",
        "  label = imagePath.split(os.path.sep)[-2]\n",
        "  labels.append(label)\n",
        "data = np.array(data, dtype=\"float\")/255.0\n",
        "labels = np.array(labels)"
      ],
      "metadata": {
        "colab": {
          "base_uri": "https://localhost:8080/"
        },
        "id": "8IdIBGSEGyrS",
        "outputId": "071ff1e0-d364-49d9-b1a1-2ca868da22a6"
      },
      "execution_count": 24,
      "outputs": [
        {
          "output_type": "stream",
          "name": "stdout",
          "text": [
            "['/content/gdrive/MyDrive/animals/dogs/dogs_00031.jpg', '/content/gdrive/MyDrive/animals/dogs/dogs_00030.jpg', '/content/gdrive/MyDrive/animals/dogs/dogs_00029.jpg', '/content/gdrive/MyDrive/animals/dogs/dogs_00028.jpg', '/content/gdrive/MyDrive/animals/dogs/dogs_00027.jpg', '/content/gdrive/MyDrive/animals/dogs/dogs_00026.jpg', '/content/gdrive/MyDrive/animals/dogs/dogs_00025.jpg', '/content/gdrive/MyDrive/animals/dogs/dogs_00024.jpg', '/content/gdrive/MyDrive/animals/dogs/dogs_00023.jpg', '/content/gdrive/MyDrive/animals/dogs/dogs_00022.jpg', '/content/gdrive/MyDrive/animals/dogs/dogs_00021.jpg', '/content/gdrive/MyDrive/animals/dogs/dogs_00017.jpg', '/content/gdrive/MyDrive/animals/dogs/dogs_00018.jpg', '/content/gdrive/MyDrive/animals/dogs/dogs_00019.jpg', '/content/gdrive/MyDrive/animals/dogs/dogs_00020.jpg', '/content/gdrive/MyDrive/animals/dogs/dogs_00016.jpg', '/content/gdrive/MyDrive/animals/dogs/dogs_00015.jpg', '/content/gdrive/MyDrive/animals/dogs/dogs_00014.jpg', '/content/gdrive/MyDrive/animals/dogs/dogs_00012.jpg', '/content/gdrive/MyDrive/animals/dogs/dogs_00013.jpg', '/content/gdrive/MyDrive/animals/dogs/dogs_00011.jpg', '/content/gdrive/MyDrive/animals/dogs/dogs_00007.jpg', '/content/gdrive/MyDrive/animals/dogs/dogs_00008.jpg', '/content/gdrive/MyDrive/animals/dogs/dogs_00009.jpg', '/content/gdrive/MyDrive/animals/dogs/dogs_00010.jpg', '/content/gdrive/MyDrive/animals/dogs/dogs_00006.jpg', '/content/gdrive/MyDrive/animals/dogs/dogs_00005.jpg', '/content/gdrive/MyDrive/animals/dogs/dogs_00004.jpg', '/content/gdrive/MyDrive/animals/dogs/dogs_00003.jpg', '/content/gdrive/MyDrive/animals/dogs/dogs_00002.jpg', '/content/gdrive/MyDrive/animals/dogs/dogs_00001.jpg', '/content/gdrive/MyDrive/animals/dogs/dogs_00071.jpg', '/content/gdrive/MyDrive/animals/dogs/dogs_00068.jpg', '/content/gdrive/MyDrive/animals/dogs/dogs_00070.jpg', '/content/gdrive/MyDrive/animals/dogs/dogs_00069.jpg', '/content/gdrive/MyDrive/animals/dogs/dogs_00067.jpg', '/content/gdrive/MyDrive/animals/dogs/dogs_00066.jpg', '/content/gdrive/MyDrive/animals/dogs/dogs_00065.jpg', '/content/gdrive/MyDrive/animals/dogs/dogs_00064.jpg', '/content/gdrive/MyDrive/animals/dogs/dogs_00062.jpg', '/content/gdrive/MyDrive/animals/dogs/dogs_00063.jpg', '/content/gdrive/MyDrive/animals/dogs/dogs_00061.jpg', '/content/gdrive/MyDrive/animals/dogs/dogs_00060.jpg', '/content/gdrive/MyDrive/animals/dogs/dogs_00057.jpg', '/content/gdrive/MyDrive/animals/dogs/dogs_00058.jpg', '/content/gdrive/MyDrive/animals/dogs/dogs_00059.jpg', '/content/gdrive/MyDrive/animals/dogs/dogs_00056.jpg', '/content/gdrive/MyDrive/animals/dogs/dogs_00055.jpg', '/content/gdrive/MyDrive/animals/dogs/dogs_00054.jpg', '/content/gdrive/MyDrive/animals/dogs/dogs_00052.jpg', '/content/gdrive/MyDrive/animals/dogs/dogs_00053.jpg', '/content/gdrive/MyDrive/animals/dogs/dogs_00051.jpg', '/content/gdrive/MyDrive/animals/dogs/dogs_00045.jpg', '/content/gdrive/MyDrive/animals/dogs/dogs_00049.jpg', '/content/gdrive/MyDrive/animals/dogs/dogs_00050.jpg', '/content/gdrive/MyDrive/animals/dogs/dogs_00046.jpg', '/content/gdrive/MyDrive/animals/dogs/dogs_00047.jpg', '/content/gdrive/MyDrive/animals/dogs/dogs_00048.jpg', '/content/gdrive/MyDrive/animals/dogs/dogs_00044.jpg', '/content/gdrive/MyDrive/animals/dogs/dogs_00042.jpg', '/content/gdrive/MyDrive/animals/dogs/dogs_00043.jpg', '/content/gdrive/MyDrive/animals/dogs/dogs_00041.jpg', '/content/gdrive/MyDrive/animals/dogs/dogs_00039.jpg', '/content/gdrive/MyDrive/animals/dogs/dogs_00037.jpg', '/content/gdrive/MyDrive/animals/dogs/dogs_00038.jpg', '/content/gdrive/MyDrive/animals/dogs/dogs_00040.jpg', '/content/gdrive/MyDrive/animals/dogs/dogs_00036.jpg', '/content/gdrive/MyDrive/animals/dogs/dogs_00035.jpg', '/content/gdrive/MyDrive/animals/dogs/dogs_00034.jpg', '/content/gdrive/MyDrive/animals/dogs/dogs_00032.jpg', '/content/gdrive/MyDrive/animals/dogs/dogs_00033.jpg', '/content/gdrive/MyDrive/animals/dogs/dogs_00111.jpg', '/content/gdrive/MyDrive/animals/dogs/dogs_00107.jpg', '/content/gdrive/MyDrive/animals/dogs/dogs_00106.jpg', '/content/gdrive/MyDrive/animals/dogs/dogs_00108.jpg', '/content/gdrive/MyDrive/animals/dogs/dogs_00109.jpg', '/content/gdrive/MyDrive/animals/dogs/dogs_00110.jpg', '/content/gdrive/MyDrive/animals/dogs/dogs_00105.jpg', '/content/gdrive/MyDrive/animals/dogs/dogs_00104.jpg', '/content/gdrive/MyDrive/animals/dogs/dogs_00103.jpg', '/content/gdrive/MyDrive/animals/dogs/dogs_00102.jpg', '/content/gdrive/MyDrive/animals/dogs/dogs_00101.jpg', '/content/gdrive/MyDrive/animals/dogs/dogs_00098.jpg', '/content/gdrive/MyDrive/animals/dogs/dogs_00096.jpg', '/content/gdrive/MyDrive/animals/dogs/dogs_00099.jpg', '/content/gdrive/MyDrive/animals/dogs/dogs_00097.jpg', '/content/gdrive/MyDrive/animals/dogs/dogs_00100.jpg', '/content/gdrive/MyDrive/animals/dogs/dogs_00095.jpg', '/content/gdrive/MyDrive/animals/dogs/dogs_00094.jpg', '/content/gdrive/MyDrive/animals/dogs/dogs_00093.jpg', '/content/gdrive/MyDrive/animals/dogs/dogs_00092.jpg', '/content/gdrive/MyDrive/animals/dogs/dogs_00091.jpg', '/content/gdrive/MyDrive/animals/dogs/dogs_00088.jpg', '/content/gdrive/MyDrive/animals/dogs/dogs_00089.jpg', '/content/gdrive/MyDrive/animals/dogs/dogs_00090.jpg', '/content/gdrive/MyDrive/animals/dogs/dogs_00087.jpg', '/content/gdrive/MyDrive/animals/dogs/dogs_00086.jpg', '/content/gdrive/MyDrive/animals/dogs/dogs_00085.jpg', '/content/gdrive/MyDrive/animals/dogs/dogs_00084.jpg', '/content/gdrive/MyDrive/animals/dogs/dogs_00083.jpg', '/content/gdrive/MyDrive/animals/dogs/dogs_00082.jpg', '/content/gdrive/MyDrive/animals/dogs/dogs_00081.jpg', '/content/gdrive/MyDrive/animals/dogs/dogs_00079.jpg', '/content/gdrive/MyDrive/animals/dogs/dogs_00080.jpg', '/content/gdrive/MyDrive/animals/dogs/dogs_00078.jpg', '/content/gdrive/MyDrive/animals/dogs/dogs_00077.jpg', '/content/gdrive/MyDrive/animals/dogs/dogs_00076.jpg', '/content/gdrive/MyDrive/animals/dogs/dogs_00075.jpg', '/content/gdrive/MyDrive/animals/dogs/dogs_00072.jpg', '/content/gdrive/MyDrive/animals/dogs/dogs_00073.jpg', '/content/gdrive/MyDrive/animals/dogs/dogs_00074.jpg', '/content/gdrive/MyDrive/animals/dogs/dogs_00150.jpg', '/content/gdrive/MyDrive/animals/dogs/dogs_00149.jpg', '/content/gdrive/MyDrive/animals/dogs/dogs_00146.jpg', '/content/gdrive/MyDrive/animals/dogs/dogs_00148.jpg', '/content/gdrive/MyDrive/animals/dogs/dogs_00147.jpg', '/content/gdrive/MyDrive/animals/dogs/dogs_00145.jpg', '/content/gdrive/MyDrive/animals/dogs/dogs_00144.jpg', '/content/gdrive/MyDrive/animals/dogs/dogs_00143.jpg', '/content/gdrive/MyDrive/animals/dogs/dogs_00142.jpg', '/content/gdrive/MyDrive/animals/dogs/dogs_00141.jpg', '/content/gdrive/MyDrive/animals/dogs/dogs_00140.jpg', '/content/gdrive/MyDrive/animals/dogs/dogs_00137.jpg', '/content/gdrive/MyDrive/animals/dogs/dogs_00136.jpg', '/content/gdrive/MyDrive/animals/dogs/dogs_00139.jpg', '/content/gdrive/MyDrive/animals/dogs/dogs_00138.jpg', '/content/gdrive/MyDrive/animals/dogs/dogs_00135.jpg', '/content/gdrive/MyDrive/animals/dogs/dogs_00134.jpg', '/content/gdrive/MyDrive/animals/dogs/dogs_00133.jpg', '/content/gdrive/MyDrive/animals/dogs/dogs_00132.jpg', '/content/gdrive/MyDrive/animals/dogs/dogs_00131.jpg', '/content/gdrive/MyDrive/animals/dogs/dogs_00126.jpg', '/content/gdrive/MyDrive/animals/dogs/dogs_00128.jpg', '/content/gdrive/MyDrive/animals/dogs/dogs_00130.jpg', '/content/gdrive/MyDrive/animals/dogs/dogs_00127.jpg', '/content/gdrive/MyDrive/animals/dogs/dogs_00129.jpg', '/content/gdrive/MyDrive/animals/dogs/dogs_00125.jpg', '/content/gdrive/MyDrive/animals/dogs/dogs_00124.jpg', '/content/gdrive/MyDrive/animals/dogs/dogs_00123.jpg', '/content/gdrive/MyDrive/animals/dogs/dogs_00122.jpg', '/content/gdrive/MyDrive/animals/dogs/dogs_00121.jpg', '/content/gdrive/MyDrive/animals/dogs/dogs_00120.jpg', '/content/gdrive/MyDrive/animals/dogs/dogs_00118.jpg', '/content/gdrive/MyDrive/animals/dogs/dogs_00119.jpg', '/content/gdrive/MyDrive/animals/dogs/dogs_00117.jpg', '/content/gdrive/MyDrive/animals/dogs/dogs_00116.jpg', '/content/gdrive/MyDrive/animals/dogs/dogs_00115.jpg', '/content/gdrive/MyDrive/animals/dogs/dogs_00114.jpg', '/content/gdrive/MyDrive/animals/dogs/dogs_00112.jpg', '/content/gdrive/MyDrive/animals/dogs/dogs_00113.jpg', '/content/gdrive/MyDrive/animals/dogs/dogs_00177.jpg', '/content/gdrive/MyDrive/animals/dogs/dogs_00180.jpg', '/content/gdrive/MyDrive/animals/dogs/dogs_00175.jpg', '/content/gdrive/MyDrive/animals/dogs/dogs_00176.jpg', '/content/gdrive/MyDrive/animals/dogs/dogs_00178.jpg', '/content/gdrive/MyDrive/animals/dogs/dogs_00174.jpg', '/content/gdrive/MyDrive/animals/dogs/dogs_00179.jpg', '/content/gdrive/MyDrive/animals/dogs/dogs_00173.jpg', '/content/gdrive/MyDrive/animals/dogs/dogs_00172.jpg', '/content/gdrive/MyDrive/animals/dogs/dogs_00171.jpg', '/content/gdrive/MyDrive/animals/dogs/dogs_00165.jpg', '/content/gdrive/MyDrive/animals/dogs/dogs_00169.jpg', '/content/gdrive/MyDrive/animals/dogs/dogs_00170.jpg', '/content/gdrive/MyDrive/animals/dogs/dogs_00166.jpg', '/content/gdrive/MyDrive/animals/dogs/dogs_00164.jpg', '/content/gdrive/MyDrive/animals/dogs/dogs_00162.jpg', '/content/gdrive/MyDrive/animals/dogs/dogs_00161.jpg', '/content/gdrive/MyDrive/animals/dogs/dogs_00168.jpg', '/content/gdrive/MyDrive/animals/dogs/dogs_00167.jpg', '/content/gdrive/MyDrive/animals/dogs/dogs_00163.jpg', '/content/gdrive/MyDrive/animals/dogs/dogs_00160.jpg', '/content/gdrive/MyDrive/animals/dogs/dogs_00157.jpg', '/content/gdrive/MyDrive/animals/dogs/dogs_00159.jpg', '/content/gdrive/MyDrive/animals/dogs/dogs_00158.jpg', '/content/gdrive/MyDrive/animals/dogs/dogs_00156.jpg', '/content/gdrive/MyDrive/animals/dogs/dogs_00155.jpg', '/content/gdrive/MyDrive/animals/dogs/dogs_00153.jpg', '/content/gdrive/MyDrive/animals/dogs/dogs_00154.jpg', '/content/gdrive/MyDrive/animals/dogs/dogs_00152.jpg', '/content/gdrive/MyDrive/animals/dogs/dogs_00151.jpg', '/content/gdrive/MyDrive/animals/dogs/dogs_00211.jpg', '/content/gdrive/MyDrive/animals/dogs/dogs_00210.jpg', '/content/gdrive/MyDrive/animals/dogs/dogs_00208.jpg', '/content/gdrive/MyDrive/animals/dogs/dogs_00209.jpg', '/content/gdrive/MyDrive/animals/dogs/dogs_00207.jpg', '/content/gdrive/MyDrive/animals/dogs/dogs_00206.jpg', '/content/gdrive/MyDrive/animals/dogs/dogs_00205.jpg', '/content/gdrive/MyDrive/animals/dogs/dogs_00204.jpg', '/content/gdrive/MyDrive/animals/dogs/dogs_00203.jpg', '/content/gdrive/MyDrive/animals/dogs/dogs_00202.jpg', '/content/gdrive/MyDrive/animals/dogs/dogs_00201.jpg', '/content/gdrive/MyDrive/animals/dogs/dogs_00198.jpg', '/content/gdrive/MyDrive/animals/dogs/dogs_00199.jpg', '/content/gdrive/MyDrive/animals/dogs/dogs_00200.jpg', '/content/gdrive/MyDrive/animals/dogs/dogs_00197.jpg', '/content/gdrive/MyDrive/animals/dogs/dogs_00196.jpg', '/content/gdrive/MyDrive/animals/dogs/dogs_00195.jpg', '/content/gdrive/MyDrive/animals/dogs/dogs_00194.jpg', '/content/gdrive/MyDrive/animals/dogs/dogs_00192.jpg', '/content/gdrive/MyDrive/animals/dogs/dogs_00193.jpg', '/content/gdrive/MyDrive/animals/dogs/dogs_00191.jpg', '/content/gdrive/MyDrive/animals/dogs/dogs_00187.jpg', '/content/gdrive/MyDrive/animals/dogs/dogs_00188.jpg', '/content/gdrive/MyDrive/animals/dogs/dogs_00190.jpg', '/content/gdrive/MyDrive/animals/dogs/dogs_00183.jpg', '/content/gdrive/MyDrive/animals/dogs/dogs_00185.jpg', '/content/gdrive/MyDrive/animals/dogs/dogs_00184.jpg', '/content/gdrive/MyDrive/animals/dogs/dogs_00189.jpg', '/content/gdrive/MyDrive/animals/dogs/dogs_00186.jpg', '/content/gdrive/MyDrive/animals/dogs/dogs_00182.jpg', '/content/gdrive/MyDrive/animals/dogs/dogs_00181.jpg', '/content/gdrive/MyDrive/animals/panda/panda_00031.jpg', '/content/gdrive/MyDrive/animals/panda/panda_00022.jpg', '/content/gdrive/MyDrive/animals/panda/panda_00027.jpg', '/content/gdrive/MyDrive/animals/panda/panda_00025.jpg', '/content/gdrive/MyDrive/animals/panda/panda_00029.jpg', '/content/gdrive/MyDrive/animals/panda/panda_00024.jpg', '/content/gdrive/MyDrive/animals/panda/panda_00026.jpg', '/content/gdrive/MyDrive/animals/panda/panda_00028.jpg', '/content/gdrive/MyDrive/animals/panda/panda_00023.jpg', '/content/gdrive/MyDrive/animals/panda/panda_00021.jpg', '/content/gdrive/MyDrive/animals/panda/panda_00030.jpg', '/content/gdrive/MyDrive/animals/panda/panda_00017.jpg', '/content/gdrive/MyDrive/animals/panda/panda_00013.jpg', '/content/gdrive/MyDrive/animals/panda/panda_00016.jpg', '/content/gdrive/MyDrive/animals/panda/panda_00020.jpg', '/content/gdrive/MyDrive/animals/panda/panda_00011.jpg', '/content/gdrive/MyDrive/animals/panda/panda_00014.jpg', '/content/gdrive/MyDrive/animals/panda/panda_00019.jpg', '/content/gdrive/MyDrive/animals/panda/panda_00018.jpg', '/content/gdrive/MyDrive/animals/panda/panda_00012.jpg', '/content/gdrive/MyDrive/animals/panda/panda_00015.jpg', '/content/gdrive/MyDrive/animals/panda/panda_00004.jpg', '/content/gdrive/MyDrive/animals/panda/panda_00005.jpg', '/content/gdrive/MyDrive/animals/panda/panda_00009.jpg', '/content/gdrive/MyDrive/animals/panda/panda_00003.jpg', '/content/gdrive/MyDrive/animals/panda/panda_00002.jpg', '/content/gdrive/MyDrive/animals/panda/panda_00008.jpg', '/content/gdrive/MyDrive/animals/panda/panda_00010.jpg', '/content/gdrive/MyDrive/animals/panda/panda_00007.jpg', '/content/gdrive/MyDrive/animals/panda/panda_00006.jpg', '/content/gdrive/MyDrive/animals/panda/panda_00001.jpg', '/content/gdrive/MyDrive/animals/panda/panda_00071.jpg', '/content/gdrive/MyDrive/animals/panda/panda_00062.jpg', '/content/gdrive/MyDrive/animals/panda/panda_00067.jpg', '/content/gdrive/MyDrive/animals/panda/panda_00070.jpg', '/content/gdrive/MyDrive/animals/panda/panda_00068.jpg', '/content/gdrive/MyDrive/animals/panda/panda_00069.jpg', '/content/gdrive/MyDrive/animals/panda/panda_00066.jpg', '/content/gdrive/MyDrive/animals/panda/panda_00063.jpg', '/content/gdrive/MyDrive/animals/panda/panda_00064.jpg', '/content/gdrive/MyDrive/animals/panda/panda_00065.jpg', '/content/gdrive/MyDrive/animals/panda/panda_00061.jpg', '/content/gdrive/MyDrive/animals/panda/panda_00055.jpg', '/content/gdrive/MyDrive/animals/panda/panda_00051.jpg', '/content/gdrive/MyDrive/animals/panda/panda_00052.jpg', '/content/gdrive/MyDrive/animals/panda/panda_00058.jpg', '/content/gdrive/MyDrive/animals/panda/panda_00054.jpg', '/content/gdrive/MyDrive/animals/panda/panda_00056.jpg', '/content/gdrive/MyDrive/animals/panda/panda_00060.jpg', '/content/gdrive/MyDrive/animals/panda/panda_00059.jpg', '/content/gdrive/MyDrive/animals/panda/panda_00057.jpg', '/content/gdrive/MyDrive/animals/panda/panda_00053.jpg', '/content/gdrive/MyDrive/animals/panda/panda_00050.jpg', '/content/gdrive/MyDrive/animals/panda/panda_00046.jpg', '/content/gdrive/MyDrive/animals/panda/panda_00048.jpg', '/content/gdrive/MyDrive/animals/panda/panda_00043.jpg', '/content/gdrive/MyDrive/animals/panda/panda_00044.jpg', '/content/gdrive/MyDrive/animals/panda/panda_00049.jpg', '/content/gdrive/MyDrive/animals/panda/panda_00045.jpg', '/content/gdrive/MyDrive/animals/panda/panda_00047.jpg', '/content/gdrive/MyDrive/animals/panda/panda_00042.jpg', '/content/gdrive/MyDrive/animals/panda/panda_00041.jpg', '/content/gdrive/MyDrive/animals/panda/panda_00040.jpg', '/content/gdrive/MyDrive/animals/panda/panda_00039.jpg', '/content/gdrive/MyDrive/animals/panda/panda_00038.jpg', '/content/gdrive/MyDrive/animals/panda/panda_00037.jpg', '/content/gdrive/MyDrive/animals/panda/panda_00036.jpg', '/content/gdrive/MyDrive/animals/panda/panda_00035.jpg', '/content/gdrive/MyDrive/animals/panda/panda_00034.jpg', '/content/gdrive/MyDrive/animals/panda/panda_00033.jpg', '/content/gdrive/MyDrive/animals/panda/panda_00032.jpg', '/content/gdrive/MyDrive/animals/panda/panda_00101.jpg', '/content/gdrive/MyDrive/animals/panda/panda_00102.jpg', '/content/gdrive/MyDrive/animals/panda/panda_00106.jpg', '/content/gdrive/MyDrive/animals/panda/panda_00108.jpg', '/content/gdrive/MyDrive/animals/panda/panda_00093.jpg', '/content/gdrive/MyDrive/animals/panda/panda_00092.jpg', '/content/gdrive/MyDrive/animals/panda/panda_00099.jpg', '/content/gdrive/MyDrive/animals/panda/panda_00100.jpg', '/content/gdrive/MyDrive/animals/panda/panda_00098.jpg', '/content/gdrive/MyDrive/animals/panda/panda_00097.jpg', '/content/gdrive/MyDrive/animals/panda/panda_00096.jpg', '/content/gdrive/MyDrive/animals/panda/panda_00095.jpg', '/content/gdrive/MyDrive/animals/panda/panda_00094.jpg', '/content/gdrive/MyDrive/animals/panda/panda_00091.jpg', '/content/gdrive/MyDrive/animals/panda/panda_00088.jpg', '/content/gdrive/MyDrive/animals/panda/panda_00090.jpg', '/content/gdrive/MyDrive/animals/panda/panda_00089.jpg', '/content/gdrive/MyDrive/animals/panda/panda_00087.jpg', '/content/gdrive/MyDrive/animals/panda/panda_00086.jpg', '/content/gdrive/MyDrive/animals/panda/panda_00085.jpg', '/content/gdrive/MyDrive/animals/panda/panda_00084.jpg', '/content/gdrive/MyDrive/animals/panda/panda_00083.jpg', '/content/gdrive/MyDrive/animals/panda/panda_00082.jpg', '/content/gdrive/MyDrive/animals/panda/panda_00081.jpg', '/content/gdrive/MyDrive/animals/panda/panda_00076.jpg', '/content/gdrive/MyDrive/animals/panda/panda_00080.jpg', '/content/gdrive/MyDrive/animals/panda/panda_00073.jpg', '/content/gdrive/MyDrive/animals/panda/panda_00072.jpg', '/content/gdrive/MyDrive/animals/panda/panda_00079.jpg', '/content/gdrive/MyDrive/animals/panda/panda_00078.jpg', '/content/gdrive/MyDrive/animals/panda/panda_00077.jpg', '/content/gdrive/MyDrive/animals/panda/panda_00075.jpg', '/content/gdrive/MyDrive/animals/panda/panda_00074.jpg', '/content/gdrive/MyDrive/animals/panda/panda_00142.jpg', '/content/gdrive/MyDrive/animals/panda/panda_00137.jpg', '/content/gdrive/MyDrive/animals/panda/panda_00140.jpg', '/content/gdrive/MyDrive/animals/panda/panda_00134.jpg', '/content/gdrive/MyDrive/animals/panda/panda_00139.jpg', '/content/gdrive/MyDrive/animals/panda/panda_00132.jpg', '/content/gdrive/MyDrive/animals/panda/panda_00133.jpg', '/content/gdrive/MyDrive/animals/panda/panda_00131.jpg', '/content/gdrive/MyDrive/animals/panda/panda_00135.jpg', '/content/gdrive/MyDrive/animals/panda/panda_00138.jpg', '/content/gdrive/MyDrive/animals/panda/panda_00136.jpg', '/content/gdrive/MyDrive/animals/panda/panda_00122.jpg', '/content/gdrive/MyDrive/animals/panda/panda_00130.jpg', '/content/gdrive/MyDrive/animals/panda/panda_00127.jpg', '/content/gdrive/MyDrive/animals/panda/panda_00124.jpg', '/content/gdrive/MyDrive/animals/panda/panda_00129.jpg', '/content/gdrive/MyDrive/animals/panda/panda_00126.jpg', '/content/gdrive/MyDrive/animals/panda/panda_00125.jpg', '/content/gdrive/MyDrive/animals/panda/panda_00128.jpg', '/content/gdrive/MyDrive/animals/panda/panda_00121.jpg', '/content/gdrive/MyDrive/animals/panda/panda_00123.jpg', '/content/gdrive/MyDrive/animals/panda/panda_00116.jpg', '/content/gdrive/MyDrive/animals/panda/panda_00118.jpg', '/content/gdrive/MyDrive/animals/panda/panda_00119.jpg', '/content/gdrive/MyDrive/animals/panda/panda_00113.jpg', '/content/gdrive/MyDrive/animals/panda/panda_00112.jpg', '/content/gdrive/MyDrive/animals/panda/panda_00114.jpg', '/content/gdrive/MyDrive/animals/panda/panda_00117.jpg', '/content/gdrive/MyDrive/animals/panda/panda_00115.jpg', '/content/gdrive/MyDrive/animals/panda/panda_00120.jpg', '/content/gdrive/MyDrive/animals/panda/panda_00111.jpg', '/content/gdrive/MyDrive/animals/panda/panda_00104.jpg', '/content/gdrive/MyDrive/animals/panda/panda_00105.jpg', '/content/gdrive/MyDrive/animals/panda/panda_00110.jpg', '/content/gdrive/MyDrive/animals/panda/panda_00109.jpg', '/content/gdrive/MyDrive/animals/panda/panda_00107.jpg', '/content/gdrive/MyDrive/animals/panda/panda_00103.jpg', '/content/gdrive/MyDrive/animals/panda/panda_00163.jpg', '/content/gdrive/MyDrive/animals/panda/panda_00164.jpg', '/content/gdrive/MyDrive/animals/panda/panda_00170.jpg', '/content/gdrive/MyDrive/animals/panda/panda_00162.jpg', '/content/gdrive/MyDrive/animals/panda/panda_00161.jpg', '/content/gdrive/MyDrive/animals/panda/panda_00168.jpg', '/content/gdrive/MyDrive/animals/panda/panda_00169.jpg', '/content/gdrive/MyDrive/animals/panda/panda_00167.jpg', '/content/gdrive/MyDrive/animals/panda/panda_00166.jpg', '/content/gdrive/MyDrive/animals/panda/panda_00165.jpg', '/content/gdrive/MyDrive/animals/panda/panda_00159.jpg', '/content/gdrive/MyDrive/animals/panda/panda_00158.jpg', '/content/gdrive/MyDrive/animals/panda/panda_00157.jpg', '/content/gdrive/MyDrive/animals/panda/panda_00155.jpg', '/content/gdrive/MyDrive/animals/panda/panda_00160.jpg', '/content/gdrive/MyDrive/animals/panda/panda_00153.jpg', '/content/gdrive/MyDrive/animals/panda/panda_00152.jpg', '/content/gdrive/MyDrive/animals/panda/panda_00151.jpg', '/content/gdrive/MyDrive/animals/panda/panda_00156.jpg', '/content/gdrive/MyDrive/animals/panda/panda_00154.jpg', '/content/gdrive/MyDrive/animals/panda/panda_00141.jpg', '/content/gdrive/MyDrive/animals/panda/panda_00149.jpg', '/content/gdrive/MyDrive/animals/panda/panda_00146.jpg', '/content/gdrive/MyDrive/animals/panda/panda_00150.jpg', '/content/gdrive/MyDrive/animals/panda/panda_00148.jpg', '/content/gdrive/MyDrive/animals/panda/panda_00147.jpg', '/content/gdrive/MyDrive/animals/panda/panda_00145.jpg', '/content/gdrive/MyDrive/animals/panda/panda_00144.jpg', '/content/gdrive/MyDrive/animals/panda/panda_00143.jpg', '/content/gdrive/MyDrive/animals/panda/panda_00205.jpg', '/content/gdrive/MyDrive/animals/panda/panda_00191.jpg', '/content/gdrive/MyDrive/animals/panda/panda_00192.jpg', '/content/gdrive/MyDrive/animals/panda/panda_00197.jpg', '/content/gdrive/MyDrive/animals/panda/panda_00194.jpg', '/content/gdrive/MyDrive/animals/panda/panda_00200.jpg', '/content/gdrive/MyDrive/animals/panda/panda_00199.jpg', '/content/gdrive/MyDrive/animals/panda/panda_00193.jpg', '/content/gdrive/MyDrive/animals/panda/panda_00196.jpg', '/content/gdrive/MyDrive/animals/panda/panda_00198.jpg', '/content/gdrive/MyDrive/animals/panda/panda_00195.jpg', '/content/gdrive/MyDrive/animals/panda/panda_00183.jpg', '/content/gdrive/MyDrive/animals/panda/panda_00189.jpg', '/content/gdrive/MyDrive/animals/panda/panda_00186.jpg', '/content/gdrive/MyDrive/animals/panda/panda_00184.jpg', '/content/gdrive/MyDrive/animals/panda/panda_00182.jpg', '/content/gdrive/MyDrive/animals/panda/panda_00181.jpg', '/content/gdrive/MyDrive/animals/panda/panda_00188.jpg', '/content/gdrive/MyDrive/animals/panda/panda_00190.jpg', '/content/gdrive/MyDrive/animals/panda/panda_00187.jpg', '/content/gdrive/MyDrive/animals/panda/panda_00185.jpg', '/content/gdrive/MyDrive/animals/panda/panda_00178.jpg', '/content/gdrive/MyDrive/animals/panda/panda_00177.jpg', '/content/gdrive/MyDrive/animals/panda/panda_00172.jpg', '/content/gdrive/MyDrive/animals/panda/panda_00175.jpg', '/content/gdrive/MyDrive/animals/panda/panda_00179.jpg', '/content/gdrive/MyDrive/animals/panda/panda_00173.jpg', '/content/gdrive/MyDrive/animals/panda/panda_00176.jpg', '/content/gdrive/MyDrive/animals/panda/panda_00180.jpg', '/content/gdrive/MyDrive/animals/panda/panda_00174.jpg', '/content/gdrive/MyDrive/animals/panda/panda_00171.jpg', '/content/gdrive/MyDrive/animals/panda/panda_00240.jpg', '/content/gdrive/MyDrive/animals/panda/panda_00236.jpg', '/content/gdrive/MyDrive/animals/panda/panda_00239.jpg', '/content/gdrive/MyDrive/animals/panda/panda_00234.jpg', '/content/gdrive/MyDrive/animals/panda/panda_00238.jpg', '/content/gdrive/MyDrive/animals/panda/panda_00231.jpg', '/content/gdrive/MyDrive/animals/panda/panda_00233.jpg', '/content/gdrive/MyDrive/animals/panda/panda_00237.jpg', '/content/gdrive/MyDrive/animals/panda/panda_00235.jpg', '/content/gdrive/MyDrive/animals/panda/panda_00232.jpg', '/content/gdrive/MyDrive/animals/panda/panda_00221.jpg', '/content/gdrive/MyDrive/animals/panda/panda_00226.jpg', '/content/gdrive/MyDrive/animals/panda/panda_00224.jpg', '/content/gdrive/MyDrive/animals/panda/panda_00225.jpg', '/content/gdrive/MyDrive/animals/panda/panda_00229.jpg', '/content/gdrive/MyDrive/animals/panda/panda_00227.jpg', '/content/gdrive/MyDrive/animals/panda/panda_00230.jpg', '/content/gdrive/MyDrive/animals/panda/panda_00228.jpg', '/content/gdrive/MyDrive/animals/panda/panda_00223.jpg', '/content/gdrive/MyDrive/animals/panda/panda_00222.jpg', '/content/gdrive/MyDrive/animals/panda/panda_00216.jpg', '/content/gdrive/MyDrive/animals/panda/panda_00218.jpg', '/content/gdrive/MyDrive/animals/panda/panda_00212.jpg', '/content/gdrive/MyDrive/animals/panda/panda_00219.jpg', '/content/gdrive/MyDrive/animals/panda/panda_00220.jpg', '/content/gdrive/MyDrive/animals/panda/panda_00214.jpg', '/content/gdrive/MyDrive/animals/panda/panda_00215.jpg', '/content/gdrive/MyDrive/animals/panda/panda_00213.jpg', '/content/gdrive/MyDrive/animals/panda/panda_00217.jpg', '/content/gdrive/MyDrive/animals/panda/panda_00211.jpg', '/content/gdrive/MyDrive/animals/panda/panda_00206.jpg', '/content/gdrive/MyDrive/animals/panda/panda_00203.jpg', '/content/gdrive/MyDrive/animals/panda/panda_00208.jpg', '/content/gdrive/MyDrive/animals/panda/panda_00204.jpg', '/content/gdrive/MyDrive/animals/panda/panda_00207.jpg', '/content/gdrive/MyDrive/animals/panda/panda_00202.jpg', '/content/gdrive/MyDrive/animals/panda/panda_00209.jpg', '/content/gdrive/MyDrive/animals/panda/panda_00210.jpg', '/content/gdrive/MyDrive/animals/panda/panda_00201.jpg', '/content/gdrive/MyDrive/animals/panda/panda_00271.jpg', '/content/gdrive/MyDrive/animals/panda/panda_00266.jpg', '/content/gdrive/MyDrive/animals/panda/panda_00269.jpg', '/content/gdrive/MyDrive/animals/panda/panda_00261.jpg', '/content/gdrive/MyDrive/animals/panda/panda_00265.jpg', '/content/gdrive/MyDrive/animals/panda/panda_00268.jpg', '/content/gdrive/MyDrive/animals/panda/panda_00263.jpg', '/content/gdrive/MyDrive/animals/panda/panda_00270.jpg', '/content/gdrive/MyDrive/animals/panda/panda_00264.jpg', '/content/gdrive/MyDrive/animals/panda/panda_00267.jpg', '/content/gdrive/MyDrive/animals/panda/panda_00262.jpg', '/content/gdrive/MyDrive/animals/panda/panda_00257.jpg', '/content/gdrive/MyDrive/animals/panda/panda_00260.jpg', '/content/gdrive/MyDrive/animals/panda/panda_00255.jpg', '/content/gdrive/MyDrive/animals/panda/panda_00252.jpg', '/content/gdrive/MyDrive/animals/panda/panda_00254.jpg', '/content/gdrive/MyDrive/animals/panda/panda_00256.jpg', '/content/gdrive/MyDrive/animals/panda/panda_00258.jpg', '/content/gdrive/MyDrive/animals/panda/panda_00251.jpg', '/content/gdrive/MyDrive/animals/panda/panda_00259.jpg', '/content/gdrive/MyDrive/animals/panda/panda_00253.jpg', '/content/gdrive/MyDrive/animals/panda/panda_00244.jpg', '/content/gdrive/MyDrive/animals/panda/panda_00249.jpg', '/content/gdrive/MyDrive/animals/panda/panda_00250.jpg', '/content/gdrive/MyDrive/animals/panda/panda_00248.jpg', '/content/gdrive/MyDrive/animals/panda/panda_00246.jpg', '/content/gdrive/MyDrive/animals/panda/panda_00247.jpg', '/content/gdrive/MyDrive/animals/panda/panda_00243.jpg', '/content/gdrive/MyDrive/animals/panda/panda_00245.jpg', '/content/gdrive/MyDrive/animals/panda/panda_00242.jpg', '/content/gdrive/MyDrive/animals/panda/panda_00241.jpg', '/content/gdrive/MyDrive/animals/panda/panda_00304.jpg', '/content/gdrive/MyDrive/animals/panda/panda_00301.jpg', '/content/gdrive/MyDrive/animals/panda/panda_00303.jpg', '/content/gdrive/MyDrive/animals/panda/panda_00306.jpg', '/content/gdrive/MyDrive/animals/panda/panda_00302.jpg', '/content/gdrive/MyDrive/animals/panda/panda_00307.jpg', '/content/gdrive/MyDrive/animals/panda/panda_00310.jpg', '/content/gdrive/MyDrive/animals/panda/panda_00308.jpg', '/content/gdrive/MyDrive/animals/panda/panda_00309.jpg', '/content/gdrive/MyDrive/animals/panda/panda_00305.jpg', '/content/gdrive/MyDrive/animals/panda/panda_00298.jpg', '/content/gdrive/MyDrive/animals/panda/panda_00293.jpg', '/content/gdrive/MyDrive/animals/panda/panda_00300.jpg', '/content/gdrive/MyDrive/animals/panda/panda_00297.jpg', '/content/gdrive/MyDrive/animals/panda/panda_00299.jpg', '/content/gdrive/MyDrive/animals/panda/panda_00296.jpg', '/content/gdrive/MyDrive/animals/panda/panda_00295.jpg', '/content/gdrive/MyDrive/animals/panda/panda_00291.jpg', '/content/gdrive/MyDrive/animals/panda/panda_00294.jpg', '/content/gdrive/MyDrive/animals/panda/panda_00292.jpg', '/content/gdrive/MyDrive/animals/panda/panda_00283.jpg', '/content/gdrive/MyDrive/animals/panda/panda_00288.jpg', '/content/gdrive/MyDrive/animals/panda/panda_00290.jpg', '/content/gdrive/MyDrive/animals/panda/panda_00287.jpg', '/content/gdrive/MyDrive/animals/panda/panda_00285.jpg', '/content/gdrive/MyDrive/animals/panda/panda_00289.jpg', '/content/gdrive/MyDrive/animals/panda/panda_00286.jpg', '/content/gdrive/MyDrive/animals/panda/panda_00284.jpg', '/content/gdrive/MyDrive/animals/panda/panda_00282.jpg', '/content/gdrive/MyDrive/animals/panda/panda_00281.jpg', '/content/gdrive/MyDrive/animals/panda/panda_00273.jpg', '/content/gdrive/MyDrive/animals/panda/panda_00280.jpg', '/content/gdrive/MyDrive/animals/panda/panda_00276.jpg', '/content/gdrive/MyDrive/animals/panda/panda_00274.jpg', '/content/gdrive/MyDrive/animals/panda/panda_00279.jpg', '/content/gdrive/MyDrive/animals/panda/panda_00275.jpg', '/content/gdrive/MyDrive/animals/panda/panda_00278.jpg', '/content/gdrive/MyDrive/animals/panda/panda_00272.jpg', '/content/gdrive/MyDrive/animals/panda/panda_00277.jpg', '/content/gdrive/MyDrive/animals/panda/panda_00341.jpg', '/content/gdrive/MyDrive/animals/panda/panda_00340.jpg', '/content/gdrive/MyDrive/animals/panda/panda_00338.jpg', '/content/gdrive/MyDrive/animals/panda/panda_00339.jpg', '/content/gdrive/MyDrive/animals/panda/panda_00336.jpg', '/content/gdrive/MyDrive/animals/panda/panda_00337.jpg', '/content/gdrive/MyDrive/animals/panda/panda_00335.jpg', '/content/gdrive/MyDrive/animals/panda/panda_00333.jpg', '/content/gdrive/MyDrive/animals/panda/panda_00334.jpg', '/content/gdrive/MyDrive/animals/panda/panda_00332.jpg', '/content/gdrive/MyDrive/animals/panda/panda_00331.jpg', '/content/gdrive/MyDrive/animals/panda/panda_00322.jpg', '/content/gdrive/MyDrive/animals/panda/panda_00324.jpg', '/content/gdrive/MyDrive/animals/panda/panda_00326.jpg', '/content/gdrive/MyDrive/animals/panda/panda_00328.jpg', '/content/gdrive/MyDrive/animals/panda/panda_00325.jpg', '/content/gdrive/MyDrive/animals/panda/panda_00323.jpg', '/content/gdrive/MyDrive/animals/panda/panda_00330.jpg', '/content/gdrive/MyDrive/animals/panda/panda_00329.jpg', '/content/gdrive/MyDrive/animals/panda/panda_00327.jpg', '/content/gdrive/MyDrive/animals/panda/panda_00321.jpg', '/content/gdrive/MyDrive/animals/panda/panda_00314.jpg', '/content/gdrive/MyDrive/animals/panda/panda_00316.jpg', '/content/gdrive/MyDrive/animals/panda/panda_00318.jpg', '/content/gdrive/MyDrive/animals/panda/panda_00319.jpg', '/content/gdrive/MyDrive/animals/panda/panda_00317.jpg', '/content/gdrive/MyDrive/animals/panda/panda_00311.jpg', '/content/gdrive/MyDrive/animals/panda/panda_00320.jpg', '/content/gdrive/MyDrive/animals/panda/panda_00315.jpg', '/content/gdrive/MyDrive/animals/panda/panda_00313.jpg', '/content/gdrive/MyDrive/animals/panda/panda_00312.jpg', '/content/gdrive/MyDrive/animals/panda/panda_00390.jpg', '/content/gdrive/MyDrive/animals/panda/panda_00377.jpg', '/content/gdrive/MyDrive/animals/panda/panda_00379.jpg', '/content/gdrive/MyDrive/animals/panda/panda_00374.jpg', '/content/gdrive/MyDrive/animals/panda/panda_00375.jpg', '/content/gdrive/MyDrive/animals/panda/panda_00380.jpg', '/content/gdrive/MyDrive/animals/panda/panda_00378.jpg', '/content/gdrive/MyDrive/animals/panda/panda_00373.jpg', '/content/gdrive/MyDrive/animals/panda/panda_00371.jpg', '/content/gdrive/MyDrive/animals/panda/panda_00372.jpg', '/content/gdrive/MyDrive/animals/panda/panda_00376.jpg', '/content/gdrive/MyDrive/animals/panda/panda_00363.jpg', '/content/gdrive/MyDrive/animals/panda/panda_00365.jpg', '/content/gdrive/MyDrive/animals/panda/panda_00366.jpg', '/content/gdrive/MyDrive/animals/panda/panda_00369.jpg', '/content/gdrive/MyDrive/animals/panda/panda_00361.jpg', '/content/gdrive/MyDrive/animals/panda/panda_00368.jpg', '/content/gdrive/MyDrive/animals/panda/panda_00364.jpg', '/content/gdrive/MyDrive/animals/panda/panda_00367.jpg', '/content/gdrive/MyDrive/animals/panda/panda_00370.jpg', '/content/gdrive/MyDrive/animals/panda/panda_00362.jpg', '/content/gdrive/MyDrive/animals/panda/panda_00353.jpg', '/content/gdrive/MyDrive/animals/panda/panda_00352.jpg', '/content/gdrive/MyDrive/animals/panda/panda_00357.jpg', '/content/gdrive/MyDrive/animals/panda/panda_00351.jpg', '/content/gdrive/MyDrive/animals/panda/panda_00358.jpg', '/content/gdrive/MyDrive/animals/panda/panda_00355.jpg', '/content/gdrive/MyDrive/animals/panda/panda_00359.jpg', '/content/gdrive/MyDrive/animals/panda/panda_00356.jpg', '/content/gdrive/MyDrive/animals/panda/panda_00360.jpg', '/content/gdrive/MyDrive/animals/panda/panda_00354.jpg', '/content/gdrive/MyDrive/animals/panda/panda_00344.jpg', '/content/gdrive/MyDrive/animals/panda/panda_00350.jpg', '/content/gdrive/MyDrive/animals/panda/panda_00347.jpg', '/content/gdrive/MyDrive/animals/panda/panda_00349.jpg', '/content/gdrive/MyDrive/animals/panda/panda_00346.jpg', '/content/gdrive/MyDrive/animals/panda/panda_00345.jpg', '/content/gdrive/MyDrive/animals/panda/panda_00343.jpg', '/content/gdrive/MyDrive/animals/panda/panda_00348.jpg', '/content/gdrive/MyDrive/animals/panda/panda_00342.jpg', '/content/gdrive/MyDrive/animals/panda/panda_00425.jpg', '/content/gdrive/MyDrive/animals/panda/panda_00415.jpg', '/content/gdrive/MyDrive/animals/panda/panda_00413.jpg', '/content/gdrive/MyDrive/animals/panda/panda_00420.jpg', '/content/gdrive/MyDrive/animals/panda/panda_00418.jpg', '/content/gdrive/MyDrive/animals/panda/panda_00416.jpg', '/content/gdrive/MyDrive/animals/panda/panda_00412.jpg', '/content/gdrive/MyDrive/animals/panda/panda_00419.jpg', '/content/gdrive/MyDrive/animals/panda/panda_00417.jpg', '/content/gdrive/MyDrive/animals/panda/panda_00414.jpg', '/content/gdrive/MyDrive/animals/panda/panda_00411.jpg', '/content/gdrive/MyDrive/animals/panda/panda_00404.jpg', '/content/gdrive/MyDrive/animals/panda/panda_00406.jpg', '/content/gdrive/MyDrive/animals/panda/panda_00409.jpg', '/content/gdrive/MyDrive/animals/panda/panda_00405.jpg', '/content/gdrive/MyDrive/animals/panda/panda_00401.jpg', '/content/gdrive/MyDrive/animals/panda/panda_00408.jpg', '/content/gdrive/MyDrive/animals/panda/panda_00410.jpg', '/content/gdrive/MyDrive/animals/panda/panda_00403.jpg', '/content/gdrive/MyDrive/animals/panda/panda_00402.jpg', '/content/gdrive/MyDrive/animals/panda/panda_00407.jpg', '/content/gdrive/MyDrive/animals/panda/panda_00395.jpg', '/content/gdrive/MyDrive/animals/panda/panda_00399.jpg', '/content/gdrive/MyDrive/animals/panda/panda_00397.jpg', '/content/gdrive/MyDrive/animals/panda/panda_00398.jpg', '/content/gdrive/MyDrive/animals/panda/panda_00393.jpg', '/content/gdrive/MyDrive/animals/panda/panda_00400.jpg', '/content/gdrive/MyDrive/animals/panda/panda_00392.jpg', '/content/gdrive/MyDrive/animals/panda/panda_00396.jpg', '/content/gdrive/MyDrive/animals/panda/panda_00394.jpg', '/content/gdrive/MyDrive/animals/panda/panda_00391.jpg', '/content/gdrive/MyDrive/animals/panda/panda_00384.jpg', '/content/gdrive/MyDrive/animals/panda/panda_00388.jpg', '/content/gdrive/MyDrive/animals/panda/panda_00387.jpg', '/content/gdrive/MyDrive/animals/panda/panda_00386.jpg', '/content/gdrive/MyDrive/animals/panda/panda_00385.jpg', '/content/gdrive/MyDrive/animals/panda/panda_00383.jpg', '/content/gdrive/MyDrive/animals/panda/panda_00389.jpg', '/content/gdrive/MyDrive/animals/panda/panda_00381.jpg', '/content/gdrive/MyDrive/animals/panda/panda_00382.jpg', '/content/gdrive/MyDrive/animals/panda/panda_00454.jpg', '/content/gdrive/MyDrive/animals/panda/panda_00457.jpg', '/content/gdrive/MyDrive/animals/panda/panda_00451.jpg', '/content/gdrive/MyDrive/animals/panda/panda_00452.jpg', '/content/gdrive/MyDrive/animals/panda/panda_00453.jpg', '/content/gdrive/MyDrive/animals/panda/panda_00460.jpg', '/content/gdrive/MyDrive/animals/panda/panda_00443.jpg', '/content/gdrive/MyDrive/animals/panda/panda_00447.jpg', '/content/gdrive/MyDrive/animals/panda/panda_00448.jpg', '/content/gdrive/MyDrive/animals/panda/panda_00446.jpg', '/content/gdrive/MyDrive/animals/panda/panda_00442.jpg', '/content/gdrive/MyDrive/animals/panda/panda_00445.jpg', '/content/gdrive/MyDrive/animals/panda/panda_00450.jpg', '/content/gdrive/MyDrive/animals/panda/panda_00449.jpg', '/content/gdrive/MyDrive/animals/panda/panda_00444.jpg', '/content/gdrive/MyDrive/animals/panda/panda_00441.jpg', '/content/gdrive/MyDrive/animals/panda/panda_00440.jpg', '/content/gdrive/MyDrive/animals/panda/panda_00434.jpg', '/content/gdrive/MyDrive/animals/panda/panda_00439.jpg', '/content/gdrive/MyDrive/animals/panda/panda_00438.jpg', '/content/gdrive/MyDrive/animals/panda/panda_00437.jpg', '/content/gdrive/MyDrive/animals/panda/panda_00435.jpg', '/content/gdrive/MyDrive/animals/panda/panda_00433.jpg', '/content/gdrive/MyDrive/animals/panda/panda_00436.jpg', '/content/gdrive/MyDrive/animals/panda/panda_00432.jpg', '/content/gdrive/MyDrive/animals/panda/panda_00431.jpg', '/content/gdrive/MyDrive/animals/panda/panda_00423.jpg', '/content/gdrive/MyDrive/animals/panda/panda_00429.jpg', '/content/gdrive/MyDrive/animals/panda/panda_00427.jpg', '/content/gdrive/MyDrive/animals/panda/panda_00422.jpg', '/content/gdrive/MyDrive/animals/panda/panda_00430.jpg', '/content/gdrive/MyDrive/animals/panda/panda_00426.jpg', '/content/gdrive/MyDrive/animals/panda/panda_00424.jpg', '/content/gdrive/MyDrive/animals/panda/panda_00421.jpg', '/content/gdrive/MyDrive/animals/panda/panda_00428.jpg', '/content/gdrive/MyDrive/animals/panda/panda_00489.jpg', '/content/gdrive/MyDrive/animals/panda/panda_00488.jpg', '/content/gdrive/MyDrive/animals/panda/panda_00487.jpg', '/content/gdrive/MyDrive/animals/panda/panda_00481.jpg', '/content/gdrive/MyDrive/animals/panda/panda_00482.jpg', '/content/gdrive/MyDrive/animals/panda/panda_00484.jpg', '/content/gdrive/MyDrive/animals/panda/panda_00485.jpg', '/content/gdrive/MyDrive/animals/panda/panda_00486.jpg', '/content/gdrive/MyDrive/animals/panda/panda_00483.jpg', '/content/gdrive/MyDrive/animals/panda/panda_00490.jpg', '/content/gdrive/MyDrive/animals/panda/panda_00475.jpg', '/content/gdrive/MyDrive/animals/panda/panda_00474.jpg', '/content/gdrive/MyDrive/animals/panda/panda_00479.jpg', '/content/gdrive/MyDrive/animals/panda/panda_00477.jpg', '/content/gdrive/MyDrive/animals/panda/panda_00472.jpg', '/content/gdrive/MyDrive/animals/panda/panda_00478.jpg', '/content/gdrive/MyDrive/animals/panda/panda_00480.jpg', '/content/gdrive/MyDrive/animals/panda/panda_00471.jpg', '/content/gdrive/MyDrive/animals/panda/panda_00476.jpg', '/content/gdrive/MyDrive/animals/panda/panda_00473.jpg', '/content/gdrive/MyDrive/animals/panda/panda_00469.jpg', '/content/gdrive/MyDrive/animals/panda/panda_00464.jpg', '/content/gdrive/MyDrive/animals/panda/panda_00462.jpg', '/content/gdrive/MyDrive/animals/panda/panda_00467.jpg', '/content/gdrive/MyDrive/animals/panda/panda_00463.jpg', '/content/gdrive/MyDrive/animals/panda/panda_00470.jpg', '/content/gdrive/MyDrive/animals/panda/panda_00461.jpg', '/content/gdrive/MyDrive/animals/panda/panda_00465.jpg', '/content/gdrive/MyDrive/animals/panda/panda_00468.jpg', '/content/gdrive/MyDrive/animals/panda/panda_00466.jpg', '/content/gdrive/MyDrive/animals/panda/panda_00455.jpg', '/content/gdrive/MyDrive/animals/panda/panda_00458.jpg', '/content/gdrive/MyDrive/animals/panda/panda_00456.jpg', '/content/gdrive/MyDrive/animals/panda/panda_00459.jpg', '/content/gdrive/MyDrive/animals/panda/panda_00522.jpg', '/content/gdrive/MyDrive/animals/panda/panda_00515.jpg', '/content/gdrive/MyDrive/animals/panda/panda_00520.jpg', '/content/gdrive/MyDrive/animals/panda/panda_00519.jpg', '/content/gdrive/MyDrive/animals/panda/panda_00518.jpg', '/content/gdrive/MyDrive/animals/panda/panda_00517.jpg', '/content/gdrive/MyDrive/animals/panda/panda_00514.jpg', '/content/gdrive/MyDrive/animals/panda/panda_00516.jpg', '/content/gdrive/MyDrive/animals/panda/panda_00513.jpg', '/content/gdrive/MyDrive/animals/panda/panda_00512.jpg', '/content/gdrive/MyDrive/animals/panda/panda_00511.jpg', '/content/gdrive/MyDrive/animals/panda/panda_00509.jpg', '/content/gdrive/MyDrive/animals/panda/panda_00507.jpg', '/content/gdrive/MyDrive/animals/panda/panda_00506.jpg', '/content/gdrive/MyDrive/animals/panda/panda_00510.jpg', '/content/gdrive/MyDrive/animals/panda/panda_00508.jpg', '/content/gdrive/MyDrive/animals/panda/panda_00505.jpg', '/content/gdrive/MyDrive/animals/panda/panda_00504.jpg', '/content/gdrive/MyDrive/animals/panda/panda_00501.jpg', '/content/gdrive/MyDrive/animals/panda/panda_00502.jpg', '/content/gdrive/MyDrive/animals/panda/panda_00503.jpg', '/content/gdrive/MyDrive/animals/panda/panda_00492.jpg', '/content/gdrive/MyDrive/animals/panda/panda_00498.jpg', '/content/gdrive/MyDrive/animals/panda/panda_00499.jpg', '/content/gdrive/MyDrive/animals/panda/panda_00491.jpg', '/content/gdrive/MyDrive/animals/panda/panda_00496.jpg', '/content/gdrive/MyDrive/animals/panda/panda_00494.jpg', '/content/gdrive/MyDrive/animals/panda/panda_00500.jpg', '/content/gdrive/MyDrive/animals/panda/panda_00495.jpg', '/content/gdrive/MyDrive/animals/panda/panda_00497.jpg', '/content/gdrive/MyDrive/animals/panda/panda_00493.jpg', '/content/gdrive/MyDrive/animals/panda/panda_00556.jpg', '/content/gdrive/MyDrive/animals/panda/panda_00557.jpg', '/content/gdrive/MyDrive/animals/panda/panda_00560.jpg', '/content/gdrive/MyDrive/animals/panda/panda_00559.jpg', '/content/gdrive/MyDrive/animals/panda/panda_00558.jpg', '/content/gdrive/MyDrive/animals/panda/panda_00553.jpg', '/content/gdrive/MyDrive/animals/panda/panda_00554.jpg', '/content/gdrive/MyDrive/animals/panda/panda_00555.jpg', '/content/gdrive/MyDrive/animals/panda/panda_00552.jpg', '/content/gdrive/MyDrive/animals/panda/panda_00551.jpg', '/content/gdrive/MyDrive/animals/panda/panda_00549.jpg', '/content/gdrive/MyDrive/animals/panda/panda_00544.jpg', '/content/gdrive/MyDrive/animals/panda/panda_00542.jpg', '/content/gdrive/MyDrive/animals/panda/panda_00550.jpg', '/content/gdrive/MyDrive/animals/panda/panda_00548.jpg', '/content/gdrive/MyDrive/animals/panda/panda_00547.jpg', '/content/gdrive/MyDrive/animals/panda/panda_00546.jpg', '/content/gdrive/MyDrive/animals/panda/panda_00545.jpg', '/content/gdrive/MyDrive/animals/panda/panda_00543.jpg', '/content/gdrive/MyDrive/animals/panda/panda_00541.jpg', '/content/gdrive/MyDrive/animals/panda/panda_00540.jpg', '/content/gdrive/MyDrive/animals/panda/panda_00539.jpg', '/content/gdrive/MyDrive/animals/panda/panda_00537.jpg', '/content/gdrive/MyDrive/animals/panda/panda_00536.jpg', '/content/gdrive/MyDrive/animals/panda/panda_00538.jpg', '/content/gdrive/MyDrive/animals/panda/panda_00535.jpg', '/content/gdrive/MyDrive/animals/panda/panda_00534.jpg', '/content/gdrive/MyDrive/animals/panda/panda_00533.jpg', '/content/gdrive/MyDrive/animals/panda/panda_00532.jpg', '/content/gdrive/MyDrive/animals/panda/panda_00531.jpg', '/content/gdrive/MyDrive/animals/panda/panda_00524.jpg', '/content/gdrive/MyDrive/animals/panda/panda_00526.jpg', '/content/gdrive/MyDrive/animals/panda/panda_00528.jpg', '/content/gdrive/MyDrive/animals/panda/panda_00530.jpg', '/content/gdrive/MyDrive/animals/panda/panda_00523.jpg', '/content/gdrive/MyDrive/animals/panda/panda_00521.jpg', '/content/gdrive/MyDrive/animals/panda/panda_00525.jpg', '/content/gdrive/MyDrive/animals/panda/panda_00529.jpg', '/content/gdrive/MyDrive/animals/panda/panda_00527.jpg', '/content/gdrive/MyDrive/animals/panda/panda_00595.jpg', '/content/gdrive/MyDrive/animals/panda/panda_00594.jpg', '/content/gdrive/MyDrive/animals/panda/panda_00593.jpg', '/content/gdrive/MyDrive/animals/panda/panda_00592.jpg', '/content/gdrive/MyDrive/animals/panda/panda_00591.jpg', '/content/gdrive/MyDrive/animals/panda/panda_00581.jpg', '/content/gdrive/MyDrive/animals/panda/panda_00589.jpg', '/content/gdrive/MyDrive/animals/panda/panda_00582.jpg', '/content/gdrive/MyDrive/animals/panda/panda_00587.jpg', '/content/gdrive/MyDrive/animals/panda/panda_00590.jpg', '/content/gdrive/MyDrive/animals/panda/panda_00588.jpg', '/content/gdrive/MyDrive/animals/panda/panda_00585.jpg', '/content/gdrive/MyDrive/animals/panda/panda_00586.jpg', '/content/gdrive/MyDrive/animals/panda/panda_00584.jpg', '/content/gdrive/MyDrive/animals/panda/panda_00583.jpg', '/content/gdrive/MyDrive/animals/panda/panda_00579.jpg', '/content/gdrive/MyDrive/animals/panda/panda_00571.jpg', '/content/gdrive/MyDrive/animals/panda/panda_00580.jpg', '/content/gdrive/MyDrive/animals/panda/panda_00572.jpg', '/content/gdrive/MyDrive/animals/panda/panda_00575.jpg', '/content/gdrive/MyDrive/animals/panda/panda_00574.jpg', '/content/gdrive/MyDrive/animals/panda/panda_00573.jpg', '/content/gdrive/MyDrive/animals/panda/panda_00576.jpg', '/content/gdrive/MyDrive/animals/panda/panda_00578.jpg', '/content/gdrive/MyDrive/animals/panda/panda_00577.jpg', '/content/gdrive/MyDrive/animals/panda/panda_00570.jpg', '/content/gdrive/MyDrive/animals/panda/panda_00562.jpg', '/content/gdrive/MyDrive/animals/panda/panda_00563.jpg', '/content/gdrive/MyDrive/animals/panda/panda_00568.jpg', '/content/gdrive/MyDrive/animals/panda/panda_00569.jpg', '/content/gdrive/MyDrive/animals/panda/panda_00567.jpg', '/content/gdrive/MyDrive/animals/panda/panda_00564.jpg', '/content/gdrive/MyDrive/animals/panda/panda_00561.jpg', '/content/gdrive/MyDrive/animals/panda/panda_00566.jpg', '/content/gdrive/MyDrive/animals/panda/panda_00565.jpg', '/content/gdrive/MyDrive/animals/panda/panda_00634.jpg', '/content/gdrive/MyDrive/animals/panda/panda_00630.jpg', '/content/gdrive/MyDrive/animals/panda/panda_00628.jpg', '/content/gdrive/MyDrive/animals/panda/panda_00627.jpg', '/content/gdrive/MyDrive/animals/panda/panda_00629.jpg', '/content/gdrive/MyDrive/animals/panda/panda_00626.jpg', '/content/gdrive/MyDrive/animals/panda/panda_00625.jpg', '/content/gdrive/MyDrive/animals/panda/panda_00624.jpg', '/content/gdrive/MyDrive/animals/panda/panda_00623.jpg', '/content/gdrive/MyDrive/animals/panda/panda_00622.jpg', '/content/gdrive/MyDrive/animals/panda/panda_00621.jpg', '/content/gdrive/MyDrive/animals/panda/panda_00618.jpg', '/content/gdrive/MyDrive/animals/panda/panda_00617.jpg', '/content/gdrive/MyDrive/animals/panda/panda_00620.jpg', '/content/gdrive/MyDrive/animals/panda/panda_00619.jpg', '/content/gdrive/MyDrive/animals/panda/panda_00616.jpg', '/content/gdrive/MyDrive/animals/panda/panda_00615.jpg', '/content/gdrive/MyDrive/animals/panda/panda_00612.jpg', '/content/gdrive/MyDrive/animals/panda/panda_00614.jpg', '/content/gdrive/MyDrive/animals/panda/panda_00613.jpg', '/content/gdrive/MyDrive/animals/panda/panda_00611.jpg', '/content/gdrive/MyDrive/animals/panda/panda_00604.jpg', '/content/gdrive/MyDrive/animals/panda/panda_00602.jpg', '/content/gdrive/MyDrive/animals/panda/panda_00606.jpg', '/content/gdrive/MyDrive/animals/panda/panda_00608.jpg', '/content/gdrive/MyDrive/animals/panda/panda_00609.jpg', '/content/gdrive/MyDrive/animals/panda/panda_00610.jpg', '/content/gdrive/MyDrive/animals/panda/panda_00607.jpg', '/content/gdrive/MyDrive/animals/panda/panda_00605.jpg', '/content/gdrive/MyDrive/animals/panda/panda_00603.jpg', '/content/gdrive/MyDrive/animals/panda/panda_00601.jpg', '/content/gdrive/MyDrive/animals/panda/panda_00597.jpg', '/content/gdrive/MyDrive/animals/panda/panda_00599.jpg', '/content/gdrive/MyDrive/animals/panda/panda_00596.jpg', '/content/gdrive/MyDrive/animals/panda/panda_00600.jpg', '/content/gdrive/MyDrive/animals/panda/panda_00598.jpg', '/content/gdrive/MyDrive/animals/panda/panda_00671.jpg', '/content/gdrive/MyDrive/animals/panda/panda_00667.jpg', '/content/gdrive/MyDrive/animals/panda/panda_00662.jpg', '/content/gdrive/MyDrive/animals/panda/panda_00666.jpg', '/content/gdrive/MyDrive/animals/panda/panda_00664.jpg', '/content/gdrive/MyDrive/animals/panda/panda_00663.jpg', '/content/gdrive/MyDrive/animals/panda/panda_00668.jpg', '/content/gdrive/MyDrive/animals/panda/panda_00665.jpg', '/content/gdrive/MyDrive/animals/panda/panda_00661.jpg', '/content/gdrive/MyDrive/animals/panda/panda_00669.jpg', '/content/gdrive/MyDrive/animals/panda/panda_00670.jpg', '/content/gdrive/MyDrive/animals/panda/panda_00658.jpg', '/content/gdrive/MyDrive/animals/panda/panda_00657.jpg', '/content/gdrive/MyDrive/animals/panda/panda_00656.jpg', '/content/gdrive/MyDrive/animals/panda/panda_00660.jpg', '/content/gdrive/MyDrive/animals/panda/panda_00659.jpg', '/content/gdrive/MyDrive/animals/panda/panda_00655.jpg', '/content/gdrive/MyDrive/animals/panda/panda_00654.jpg', '/content/gdrive/MyDrive/animals/panda/panda_00653.jpg', '/content/gdrive/MyDrive/animals/panda/panda_00652.jpg', '/content/gdrive/MyDrive/animals/panda/panda_00651.jpg', '/content/gdrive/MyDrive/animals/panda/panda_00648.jpg', '/content/gdrive/MyDrive/animals/panda/panda_00649.jpg', '/content/gdrive/MyDrive/animals/panda/panda_00650.jpg', '/content/gdrive/MyDrive/animals/panda/panda_00647.jpg', '/content/gdrive/MyDrive/animals/panda/panda_00646.jpg', '/content/gdrive/MyDrive/animals/panda/panda_00645.jpg', '/content/gdrive/MyDrive/animals/panda/panda_00644.jpg', '/content/gdrive/MyDrive/animals/panda/panda_00643.jpg', '/content/gdrive/MyDrive/animals/panda/panda_00642.jpg', '/content/gdrive/MyDrive/animals/panda/panda_00641.jpg', '/content/gdrive/MyDrive/animals/panda/panda_00632.jpg', '/content/gdrive/MyDrive/animals/panda/panda_00633.jpg', '/content/gdrive/MyDrive/animals/panda/panda_00631.jpg', '/content/gdrive/MyDrive/animals/panda/panda_00638.jpg', '/content/gdrive/MyDrive/animals/panda/panda_00637.jpg', '/content/gdrive/MyDrive/animals/panda/panda_00636.jpg', '/content/gdrive/MyDrive/animals/panda/panda_00640.jpg', '/content/gdrive/MyDrive/animals/panda/panda_00639.jpg', '/content/gdrive/MyDrive/animals/panda/panda_00635.jpg', '/content/gdrive/MyDrive/animals/panda/panda_00710.jpg', '/content/gdrive/MyDrive/animals/panda/panda_00708.jpg', '/content/gdrive/MyDrive/animals/panda/panda_00707.jpg', '/content/gdrive/MyDrive/animals/panda/panda_00709.jpg', '/content/gdrive/MyDrive/animals/panda/panda_00705.jpg', '/content/gdrive/MyDrive/animals/panda/panda_00704.jpg', '/content/gdrive/MyDrive/animals/panda/panda_00706.jpg', '/content/gdrive/MyDrive/animals/panda/panda_00703.jpg', '/content/gdrive/MyDrive/animals/panda/panda_00702.jpg', '/content/gdrive/MyDrive/animals/panda/panda_00701.jpg', '/content/gdrive/MyDrive/animals/panda/panda_00691.jpg', '/content/gdrive/MyDrive/animals/panda/panda_00694.jpg', '/content/gdrive/MyDrive/animals/panda/panda_00693.jpg', '/content/gdrive/MyDrive/animals/panda/panda_00699.jpg', '/content/gdrive/MyDrive/animals/panda/panda_00696.jpg', '/content/gdrive/MyDrive/animals/panda/panda_00697.jpg', '/content/gdrive/MyDrive/animals/panda/panda_00700.jpg', '/content/gdrive/MyDrive/animals/panda/panda_00698.jpg', '/content/gdrive/MyDrive/animals/panda/panda_00695.jpg', '/content/gdrive/MyDrive/animals/panda/panda_00692.jpg', '/content/gdrive/MyDrive/animals/panda/panda_00687.jpg', '/content/gdrive/MyDrive/animals/panda/panda_00690.jpg', '/content/gdrive/MyDrive/animals/panda/panda_00688.jpg', '/content/gdrive/MyDrive/animals/panda/panda_00683.jpg', '/content/gdrive/MyDrive/animals/panda/panda_00686.jpg', '/content/gdrive/MyDrive/animals/panda/panda_00689.jpg', '/content/gdrive/MyDrive/animals/panda/panda_00684.jpg', '/content/gdrive/MyDrive/animals/panda/panda_00685.jpg', '/content/gdrive/MyDrive/animals/panda/panda_00682.jpg', '/content/gdrive/MyDrive/animals/panda/panda_00681.jpg', '/content/gdrive/MyDrive/animals/panda/panda_00679.jpg', '/content/gdrive/MyDrive/animals/panda/panda_00678.jpg', '/content/gdrive/MyDrive/animals/panda/panda_00680.jpg', '/content/gdrive/MyDrive/animals/panda/panda_00673.jpg', '/content/gdrive/MyDrive/animals/panda/panda_00675.jpg', '/content/gdrive/MyDrive/animals/panda/panda_00672.jpg', '/content/gdrive/MyDrive/animals/panda/panda_00677.jpg', '/content/gdrive/MyDrive/animals/panda/panda_00674.jpg', '/content/gdrive/MyDrive/animals/panda/panda_00676.jpg', '/content/gdrive/MyDrive/animals/panda/panda_00742.jpg', '/content/gdrive/MyDrive/animals/panda/panda_00739.jpg', '/content/gdrive/MyDrive/animals/panda/panda_00733.jpg', '/content/gdrive/MyDrive/animals/panda/panda_00736.jpg', '/content/gdrive/MyDrive/animals/panda/panda_00735.jpg', '/content/gdrive/MyDrive/animals/panda/panda_00740.jpg', '/content/gdrive/MyDrive/animals/panda/panda_00737.jpg', '/content/gdrive/MyDrive/animals/panda/panda_00731.jpg', '/content/gdrive/MyDrive/animals/panda/panda_00738.jpg', '/content/gdrive/MyDrive/animals/panda/panda_00734.jpg', '/content/gdrive/MyDrive/animals/panda/panda_00732.jpg', '/content/gdrive/MyDrive/animals/panda/panda_00723.jpg', '/content/gdrive/MyDrive/animals/panda/panda_00728.jpg', '/content/gdrive/MyDrive/animals/panda/panda_00726.jpg', '/content/gdrive/MyDrive/animals/panda/panda_00722.jpg', '/content/gdrive/MyDrive/animals/panda/panda_00730.jpg', '/content/gdrive/MyDrive/animals/panda/panda_00727.jpg', '/content/gdrive/MyDrive/animals/panda/panda_00729.jpg', '/content/gdrive/MyDrive/animals/panda/panda_00725.jpg', '/content/gdrive/MyDrive/animals/panda/panda_00724.jpg', '/content/gdrive/MyDrive/animals/panda/panda_00721.jpg', '/content/gdrive/MyDrive/animals/panda/panda_00712.jpg', '/content/gdrive/MyDrive/animals/panda/panda_00720.jpg', '/content/gdrive/MyDrive/animals/panda/panda_00719.jpg', '/content/gdrive/MyDrive/animals/panda/panda_00715.jpg', '/content/gdrive/MyDrive/animals/panda/panda_00716.jpg', '/content/gdrive/MyDrive/animals/panda/panda_00717.jpg', '/content/gdrive/MyDrive/animals/panda/panda_00714.jpg', '/content/gdrive/MyDrive/animals/panda/panda_00718.jpg', '/content/gdrive/MyDrive/animals/panda/panda_00713.jpg', '/content/gdrive/MyDrive/animals/panda/panda_00711.jpg', '/content/gdrive/MyDrive/animals/panda/panda_00781.jpg', '/content/gdrive/MyDrive/animals/panda/panda_00773.jpg', '/content/gdrive/MyDrive/animals/panda/panda_00775.jpg', '/content/gdrive/MyDrive/animals/panda/panda_00774.jpg', '/content/gdrive/MyDrive/animals/panda/panda_00780.jpg', '/content/gdrive/MyDrive/animals/panda/panda_00778.jpg', '/content/gdrive/MyDrive/animals/panda/panda_00777.jpg', '/content/gdrive/MyDrive/animals/panda/panda_00776.jpg', '/content/gdrive/MyDrive/animals/panda/panda_00779.jpg', '/content/gdrive/MyDrive/animals/panda/panda_00772.jpg', '/content/gdrive/MyDrive/animals/panda/panda_00771.jpg', '/content/gdrive/MyDrive/animals/panda/panda_00769.jpg', '/content/gdrive/MyDrive/animals/panda/panda_00764.jpg', '/content/gdrive/MyDrive/animals/panda/panda_00765.jpg', '/content/gdrive/MyDrive/animals/panda/panda_00768.jpg', '/content/gdrive/MyDrive/animals/panda/panda_00766.jpg', '/content/gdrive/MyDrive/animals/panda/panda_00770.jpg', '/content/gdrive/MyDrive/animals/panda/panda_00767.jpg', '/content/gdrive/MyDrive/animals/panda/panda_00763.jpg', '/content/gdrive/MyDrive/animals/panda/panda_00762.jpg', '/content/gdrive/MyDrive/animals/panda/panda_00761.jpg', '/content/gdrive/MyDrive/animals/panda/panda_00754.jpg', '/content/gdrive/MyDrive/animals/panda/panda_00759.jpg', '/content/gdrive/MyDrive/animals/panda/panda_00760.jpg', '/content/gdrive/MyDrive/animals/panda/panda_00755.jpg', '/content/gdrive/MyDrive/animals/panda/panda_00756.jpg', '/content/gdrive/MyDrive/animals/panda/panda_00757.jpg', '/content/gdrive/MyDrive/animals/panda/panda_00758.jpg', '/content/gdrive/MyDrive/animals/panda/panda_00753.jpg', '/content/gdrive/MyDrive/animals/panda/panda_00752.jpg', '/content/gdrive/MyDrive/animals/panda/panda_00751.jpg', '/content/gdrive/MyDrive/animals/panda/panda_00744.jpg', '/content/gdrive/MyDrive/animals/panda/panda_00747.jpg', '/content/gdrive/MyDrive/animals/panda/panda_00741.jpg', '/content/gdrive/MyDrive/animals/panda/panda_00748.jpg', '/content/gdrive/MyDrive/animals/panda/panda_00745.jpg', '/content/gdrive/MyDrive/animals/panda/panda_00750.jpg', '/content/gdrive/MyDrive/animals/panda/panda_00746.jpg', '/content/gdrive/MyDrive/animals/panda/panda_00743.jpg', '/content/gdrive/MyDrive/animals/panda/panda_00749.jpg', '/content/gdrive/MyDrive/animals/panda/panda_00819.jpg', '/content/gdrive/MyDrive/animals/panda/panda_00820.jpg', '/content/gdrive/MyDrive/animals/panda/panda_00817.jpg', '/content/gdrive/MyDrive/animals/panda/panda_00818.jpg', '/content/gdrive/MyDrive/animals/panda/panda_00816.jpg', '/content/gdrive/MyDrive/animals/panda/panda_00813.jpg', '/content/gdrive/MyDrive/animals/panda/panda_00815.jpg', '/content/gdrive/MyDrive/animals/panda/panda_00814.jpg', '/content/gdrive/MyDrive/animals/panda/panda_00812.jpg', '/content/gdrive/MyDrive/animals/panda/panda_00811.jpg', '/content/gdrive/MyDrive/animals/panda/panda_00810.jpg', '/content/gdrive/MyDrive/animals/panda/panda_00803.jpg', '/content/gdrive/MyDrive/animals/panda/panda_00807.jpg', '/content/gdrive/MyDrive/animals/panda/panda_00806.jpg', '/content/gdrive/MyDrive/animals/panda/panda_00809.jpg', '/content/gdrive/MyDrive/animals/panda/panda_00808.jpg', '/content/gdrive/MyDrive/animals/panda/panda_00804.jpg', '/content/gdrive/MyDrive/animals/panda/panda_00805.jpg', '/content/gdrive/MyDrive/animals/panda/panda_00802.jpg', '/content/gdrive/MyDrive/animals/panda/panda_00801.jpg', '/content/gdrive/MyDrive/animals/panda/panda_00799.jpg', '/content/gdrive/MyDrive/animals/panda/panda_00792.jpg', '/content/gdrive/MyDrive/animals/panda/panda_00800.jpg', '/content/gdrive/MyDrive/animals/panda/panda_00798.jpg', '/content/gdrive/MyDrive/animals/panda/panda_00797.jpg', '/content/gdrive/MyDrive/animals/panda/panda_00794.jpg', '/content/gdrive/MyDrive/animals/panda/panda_00795.jpg', '/content/gdrive/MyDrive/animals/panda/panda_00796.jpg', '/content/gdrive/MyDrive/animals/panda/panda_00793.jpg', '/content/gdrive/MyDrive/animals/panda/panda_00791.jpg', '/content/gdrive/MyDrive/animals/panda/panda_00788.jpg', '/content/gdrive/MyDrive/animals/panda/panda_00786.jpg', '/content/gdrive/MyDrive/animals/panda/panda_00785.jpg', '/content/gdrive/MyDrive/animals/panda/panda_00789.jpg', '/content/gdrive/MyDrive/animals/panda/panda_00787.jpg', '/content/gdrive/MyDrive/animals/panda/panda_00782.jpg', '/content/gdrive/MyDrive/animals/panda/panda_00790.jpg', '/content/gdrive/MyDrive/animals/panda/panda_00784.jpg', '/content/gdrive/MyDrive/animals/panda/panda_00783.jpg', '/content/gdrive/MyDrive/animals/panda/panda_00853.jpg', '/content/gdrive/MyDrive/animals/panda/panda_00857.jpg', '/content/gdrive/MyDrive/animals/panda/panda_00852.jpg', '/content/gdrive/MyDrive/animals/panda/panda_00854.jpg', '/content/gdrive/MyDrive/animals/panda/panda_00849.jpg', '/content/gdrive/MyDrive/animals/panda/panda_00841.jpg', '/content/gdrive/MyDrive/animals/panda/panda_00845.jpg', '/content/gdrive/MyDrive/animals/panda/panda_00850.jpg', '/content/gdrive/MyDrive/animals/panda/panda_00847.jpg', '/content/gdrive/MyDrive/animals/panda/panda_00848.jpg', '/content/gdrive/MyDrive/animals/panda/panda_00846.jpg', '/content/gdrive/MyDrive/animals/panda/panda_00844.jpg', '/content/gdrive/MyDrive/animals/panda/panda_00843.jpg', '/content/gdrive/MyDrive/animals/panda/panda_00842.jpg', '/content/gdrive/MyDrive/animals/panda/panda_00840.jpg', '/content/gdrive/MyDrive/animals/panda/panda_00839.jpg', '/content/gdrive/MyDrive/animals/panda/panda_00838.jpg', '/content/gdrive/MyDrive/animals/panda/panda_00836.jpg', '/content/gdrive/MyDrive/animals/panda/panda_00835.jpg', '/content/gdrive/MyDrive/animals/panda/panda_00837.jpg', '/content/gdrive/MyDrive/animals/panda/panda_00834.jpg', '/content/gdrive/MyDrive/animals/panda/panda_00833.jpg', '/content/gdrive/MyDrive/animals/panda/panda_00832.jpg', '/content/gdrive/MyDrive/animals/panda/panda_00831.jpg', '/content/gdrive/MyDrive/animals/panda/panda_00830.jpg', '/content/gdrive/MyDrive/animals/panda/panda_00829.jpg', '/content/gdrive/MyDrive/animals/panda/panda_00828.jpg', '/content/gdrive/MyDrive/animals/panda/panda_00827.jpg', '/content/gdrive/MyDrive/animals/panda/panda_00824.jpg', '/content/gdrive/MyDrive/animals/panda/panda_00825.jpg', '/content/gdrive/MyDrive/animals/panda/panda_00823.jpg', '/content/gdrive/MyDrive/animals/panda/panda_00826.jpg', '/content/gdrive/MyDrive/animals/panda/panda_00822.jpg', '/content/gdrive/MyDrive/animals/panda/panda_00821.jpg', '/content/gdrive/MyDrive/animals/panda/panda_00881.jpg', '/content/gdrive/MyDrive/animals/panda/panda_00880.jpg', '/content/gdrive/MyDrive/animals/panda/panda_00879.jpg', '/content/gdrive/MyDrive/animals/panda/panda_00877.jpg', '/content/gdrive/MyDrive/animals/panda/panda_00873.jpg', '/content/gdrive/MyDrive/animals/panda/panda_00878.jpg', '/content/gdrive/MyDrive/animals/panda/panda_00875.jpg', '/content/gdrive/MyDrive/animals/panda/panda_00876.jpg', '/content/gdrive/MyDrive/animals/panda/panda_00874.jpg', '/content/gdrive/MyDrive/animals/panda/panda_00872.jpg', '/content/gdrive/MyDrive/animals/panda/panda_00871.jpg', '/content/gdrive/MyDrive/animals/panda/panda_00869.jpg', '/content/gdrive/MyDrive/animals/panda/panda_00866.jpg', '/content/gdrive/MyDrive/animals/panda/panda_00864.jpg', '/content/gdrive/MyDrive/animals/panda/panda_00868.jpg', '/content/gdrive/MyDrive/animals/panda/panda_00870.jpg', '/content/gdrive/MyDrive/animals/panda/panda_00867.jpg', '/content/gdrive/MyDrive/animals/panda/panda_00865.jpg', '/content/gdrive/MyDrive/animals/panda/panda_00863.jpg', '/content/gdrive/MyDrive/animals/panda/panda_00861.jpg', '/content/gdrive/MyDrive/animals/panda/panda_00862.jpg', '/content/gdrive/MyDrive/animals/panda/panda_00860.jpg', '/content/gdrive/MyDrive/animals/panda/panda_00858.jpg', '/content/gdrive/MyDrive/animals/panda/panda_00859.jpg', '/content/gdrive/MyDrive/animals/panda/panda_00851.jpg', '/content/gdrive/MyDrive/animals/panda/panda_00855.jpg', '/content/gdrive/MyDrive/animals/panda/panda_00856.jpg', '/content/gdrive/MyDrive/animals/panda/panda_00920.jpg', '/content/gdrive/MyDrive/animals/panda/panda_00914.jpg', '/content/gdrive/MyDrive/animals/panda/panda_00913.jpg', '/content/gdrive/MyDrive/animals/panda/panda_00919.jpg', '/content/gdrive/MyDrive/animals/panda/panda_00915.jpg', '/content/gdrive/MyDrive/animals/panda/panda_00918.jpg', '/content/gdrive/MyDrive/animals/panda/panda_00917.jpg', '/content/gdrive/MyDrive/animals/panda/panda_00916.jpg', '/content/gdrive/MyDrive/animals/panda/panda_00912.jpg', '/content/gdrive/MyDrive/animals/panda/panda_00911.jpg', '/content/gdrive/MyDrive/animals/panda/panda_00904.jpg', '/content/gdrive/MyDrive/animals/panda/panda_00906.jpg', '/content/gdrive/MyDrive/animals/panda/panda_00905.jpg', '/content/gdrive/MyDrive/animals/panda/panda_00908.jpg', '/content/gdrive/MyDrive/animals/panda/panda_00902.jpg', '/content/gdrive/MyDrive/animals/panda/panda_00907.jpg', '/content/gdrive/MyDrive/animals/panda/panda_00903.jpg', '/content/gdrive/MyDrive/animals/panda/panda_00909.jpg', '/content/gdrive/MyDrive/animals/panda/panda_00901.jpg', '/content/gdrive/MyDrive/animals/panda/panda_00910.jpg', '/content/gdrive/MyDrive/animals/panda/panda_00900.jpg', '/content/gdrive/MyDrive/animals/panda/panda_00897.jpg', '/content/gdrive/MyDrive/animals/panda/panda_00892.jpg', '/content/gdrive/MyDrive/animals/panda/panda_00896.jpg', '/content/gdrive/MyDrive/animals/panda/panda_00899.jpg', '/content/gdrive/MyDrive/animals/panda/panda_00893.jpg', '/content/gdrive/MyDrive/animals/panda/panda_00894.jpg', '/content/gdrive/MyDrive/animals/panda/panda_00898.jpg', '/content/gdrive/MyDrive/animals/panda/panda_00891.jpg', '/content/gdrive/MyDrive/animals/panda/panda_00895.jpg', '/content/gdrive/MyDrive/animals/panda/panda_00890.jpg', '/content/gdrive/MyDrive/animals/panda/panda_00888.jpg', '/content/gdrive/MyDrive/animals/panda/panda_00884.jpg', '/content/gdrive/MyDrive/animals/panda/panda_00885.jpg', '/content/gdrive/MyDrive/animals/panda/panda_00882.jpg', '/content/gdrive/MyDrive/animals/panda/panda_00886.jpg', '/content/gdrive/MyDrive/animals/panda/panda_00889.jpg', '/content/gdrive/MyDrive/animals/panda/panda_00887.jpg', '/content/gdrive/MyDrive/animals/panda/panda_00883.jpg', '/content/gdrive/MyDrive/animals/panda/panda_00958.jpg', '/content/gdrive/MyDrive/animals/panda/panda_00957.jpg', '/content/gdrive/MyDrive/animals/panda/panda_00956.jpg', '/content/gdrive/MyDrive/animals/panda/panda_00959.jpg', '/content/gdrive/MyDrive/animals/panda/panda_00953.jpg', '/content/gdrive/MyDrive/animals/panda/panda_00954.jpg', '/content/gdrive/MyDrive/animals/panda/panda_00960.jpg', '/content/gdrive/MyDrive/animals/panda/panda_00955.jpg', '/content/gdrive/MyDrive/animals/panda/panda_00952.jpg', '/content/gdrive/MyDrive/animals/panda/panda_00951.jpg', '/content/gdrive/MyDrive/animals/panda/panda_00942.jpg', '/content/gdrive/MyDrive/animals/panda/panda_00947.jpg', '/content/gdrive/MyDrive/animals/panda/panda_00946.jpg', '/content/gdrive/MyDrive/animals/panda/panda_00950.jpg', '/content/gdrive/MyDrive/animals/panda/panda_00944.jpg', '/content/gdrive/MyDrive/animals/panda/panda_00943.jpg', '/content/gdrive/MyDrive/animals/panda/panda_00949.jpg', '/content/gdrive/MyDrive/animals/panda/panda_00945.jpg', '/content/gdrive/MyDrive/animals/panda/panda_00948.jpg', '/content/gdrive/MyDrive/animals/panda/panda_00941.jpg', '/content/gdrive/MyDrive/animals/panda/panda_00938.jpg', '/content/gdrive/MyDrive/animals/panda/panda_00936.jpg', '/content/gdrive/MyDrive/animals/panda/panda_00935.jpg', '/content/gdrive/MyDrive/animals/panda/panda_00940.jpg', '/content/gdrive/MyDrive/animals/panda/panda_00934.jpg', '/content/gdrive/MyDrive/animals/panda/panda_00937.jpg', '/content/gdrive/MyDrive/animals/panda/panda_00939.jpg', '/content/gdrive/MyDrive/animals/panda/panda_00933.jpg', '/content/gdrive/MyDrive/animals/panda/panda_00932.jpg', '/content/gdrive/MyDrive/animals/panda/panda_00931.jpg', '/content/gdrive/MyDrive/animals/panda/panda_00925.jpg', '/content/gdrive/MyDrive/animals/panda/panda_00921.jpg', '/content/gdrive/MyDrive/animals/panda/panda_00927.jpg', '/content/gdrive/MyDrive/animals/panda/panda_00923.jpg', '/content/gdrive/MyDrive/animals/panda/panda_00922.jpg', '/content/gdrive/MyDrive/animals/panda/panda_00924.jpg', '/content/gdrive/MyDrive/animals/panda/panda_00926.jpg', '/content/gdrive/MyDrive/animals/panda/panda_00930.jpg', '/content/gdrive/MyDrive/animals/panda/panda_00928.jpg', '/content/gdrive/MyDrive/animals/panda/panda_00929.jpg', '/content/gdrive/MyDrive/animals/panda/panda_00991.jpg', '/content/gdrive/MyDrive/animals/panda/panda_00989.jpg', '/content/gdrive/MyDrive/animals/panda/panda_00990.jpg', '/content/gdrive/MyDrive/animals/panda/panda_00988.jpg', '/content/gdrive/MyDrive/animals/panda/panda_00983.jpg', '/content/gdrive/MyDrive/animals/panda/panda_00986.jpg', '/content/gdrive/MyDrive/animals/panda/panda_00985.jpg', '/content/gdrive/MyDrive/animals/panda/panda_00984.jpg', '/content/gdrive/MyDrive/animals/panda/panda_00987.jpg', '/content/gdrive/MyDrive/animals/panda/panda_00982.jpg', '/content/gdrive/MyDrive/animals/panda/panda_00981.jpg', '/content/gdrive/MyDrive/animals/panda/panda_00977.jpg', '/content/gdrive/MyDrive/animals/panda/panda_00975.jpg', '/content/gdrive/MyDrive/animals/panda/panda_00974.jpg', '/content/gdrive/MyDrive/animals/panda/panda_00978.jpg', '/content/gdrive/MyDrive/animals/panda/panda_00976.jpg', '/content/gdrive/MyDrive/animals/panda/panda_00980.jpg', '/content/gdrive/MyDrive/animals/panda/panda_00971.jpg', '/content/gdrive/MyDrive/animals/panda/panda_00979.jpg', '/content/gdrive/MyDrive/animals/panda/panda_00973.jpg', '/content/gdrive/MyDrive/animals/panda/panda_00972.jpg', '/content/gdrive/MyDrive/animals/panda/panda_00970.jpg', '/content/gdrive/MyDrive/animals/panda/panda_00969.jpg', '/content/gdrive/MyDrive/animals/panda/panda_00968.jpg', '/content/gdrive/MyDrive/animals/panda/panda_00963.jpg', '/content/gdrive/MyDrive/animals/panda/panda_00964.jpg', '/content/gdrive/MyDrive/animals/panda/panda_00965.jpg', '/content/gdrive/MyDrive/animals/panda/panda_00967.jpg', '/content/gdrive/MyDrive/animals/panda/panda_00966.jpg', '/content/gdrive/MyDrive/animals/panda/panda_00962.jpg', '/content/gdrive/MyDrive/animals/panda/panda_00961.jpg', '/content/gdrive/MyDrive/animals/panda/panda_00997.jpg', '/content/gdrive/MyDrive/animals/panda/panda_01000.jpg', '/content/gdrive/MyDrive/animals/panda/panda_00999.jpg', '/content/gdrive/MyDrive/animals/panda/panda_00994.jpg', '/content/gdrive/MyDrive/animals/panda/panda_00996.jpg', '/content/gdrive/MyDrive/animals/panda/panda_00993.jpg', '/content/gdrive/MyDrive/animals/panda/panda_00995.jpg', '/content/gdrive/MyDrive/animals/panda/panda_00998.jpg', '/content/gdrive/MyDrive/animals/panda/panda_00992.jpg']\n"
          ]
        }
      ]
    },
    {
      "cell_type": "code",
      "source": [
        "from keras.preprocessing import train_test_split\n",
        "(trainX, textX, trainY, testY) = train_test_split(data, labels, test_size=0.25, random_state=42)\n",
        "from sklearn.preprocessing import LabelBinarizer\n",
        "lb = LabelBinarizer()\n",
        "trainY = lb.fit_transsform(trainY)\n",
        "testY = lb.transform(testY)\n"
      ],
      "metadata": {
        "colab": {
          "base_uri": "https://localhost:8080/"
        },
        "id": "BGHQHP1dNlYu",
        "outputId": "bc61c128-4e85-4332-fd4a-94b35009ae1a"
      },
      "execution_count": 26,
      "outputs": [
        {
          "output_type": "stream",
          "name": "stdout",
          "text": [
            "(1211, 3072)\n"
          ]
        }
      ]
    },
    {
      "cell_type": "code",
      "source": [
        "import argparse \n",
        "import imutils \n",
        "import time \n",
        "import cv2 \n",
        "\n",
        "ap = argparse.ArgumentParser() \n",
        "ap.add_argument(\"-d\", \"--dataset\", type=str,help=\"path to input dataset of images\", required=True) \n",
        "ap.add_argument(\"-m\", \"--model\", required=True,type=str, help=\"File to output trained model\") \n",
        "ap.add_argument(\"-l\", \"--l\", required=True, help=\"path to output label binarizer\") \n",
        "\n",
        "args = vars(ap.parse_args())\n",
        "imagePaths = list(paths.list_images(args[\"dataset\"]))"
      ],
      "metadata": {
        "colab": {
          "base_uri": "https://localhost:8080/",
          "height": 203
        },
        "id": "Df22R-aBPv3R",
        "outputId": "3c72c628-369c-4f2f-df0e-7f2591151f68"
      },
      "execution_count": 27,
      "outputs": [
        {
          "output_type": "stream",
          "name": "stderr",
          "text": [
            "usage: ipykernel_launcher.py [-h] -d DATASET -m MODEL -l L\n",
            "ipykernel_launcher.py: error: the following arguments are required: -d/--dataset, -m/--model, -l/--l\n"
          ]
        },
        {
          "output_type": "error",
          "ename": "SystemExit",
          "evalue": "ignored",
          "traceback": [
            "An exception has occurred, use %tb to see the full traceback.\n",
            "\u001b[0;31mSystemExit\u001b[0m\u001b[0;31m:\u001b[0m 2\n"
          ]
        },
        {
          "output_type": "stream",
          "name": "stderr",
          "text": [
            "/usr/local/lib/python3.7/dist-packages/IPython/core/interactiveshell.py:2890: UserWarning: To exit: use 'exit', 'quit', or Ctrl-D.\n",
            "  warn(\"To exit: use 'exit', 'quit', or Ctrl-D.\", stacklevel=1)\n"
          ]
        }
      ]
    }
  ]
}