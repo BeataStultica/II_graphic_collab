{
  "nbformat": 4,
  "nbformat_minor": 0,
  "metadata": {
    "colab": {
      "name": "laba7_male_female.ipynb",
      "provenance": [],
      "collapsed_sections": [],
      "authorship_tag": "ABX9TyMOGWYwMBtxlkL6wMCaw/IA",
      "include_colab_link": true
    },
    "kernelspec": {
      "name": "python3",
      "display_name": "Python 3"
    },
    "language_info": {
      "name": "python"
    },
    "accelerator": "GPU"
  },
  "cells": [
    {
      "cell_type": "markdown",
      "metadata": {
        "id": "view-in-github",
        "colab_type": "text"
      },
      "source": [
        "<a href=\"https://colab.research.google.com/github/BeataStultica/II_graphic_collab/blob/main/laba7_male_female.ipynb\" target=\"_parent\"><img src=\"https://colab.research.google.com/assets/colab-badge.svg\" alt=\"Open In Colab\"/></a>"
      ]
    },
    {
      "cell_type": "code",
      "source": [
        "import zipfile\n",
        "from google.colab import drive\n",
        "\n",
        "drive.mount(\"/content/gdrive\")\n",
        "zip_file = '/content/gdrive/MyDrive/male_female.zip'\n",
        "z = zipfile.ZipFile(zip_file, 'r')\n",
        "z.extractall()"
      ],
      "metadata": {
        "colab": {
          "base_uri": "https://localhost:8080/"
        },
        "id": "CEGsT6OxU7HL",
        "outputId": "80c0f8fa-93cb-4438-ffc8-45b7a46770ab"
      },
      "execution_count": 4,
      "outputs": [
        {
          "output_type": "stream",
          "name": "stdout",
          "text": [
            "Mounted at /content/gdrive\n"
          ]
        }
      ]
    },
    {
      "cell_type": "code",
      "execution_count": 12,
      "metadata": {
        "colab": {
          "base_uri": "https://localhost:8080/"
        },
        "id": "TMXHTn1gOGfW",
        "outputId": "fe2190c7-1371-4b99-cfc4-0d4f100508e1"
      },
      "outputs": [
        {
          "output_type": "stream",
          "name": "stdout",
          "text": [
            "Found 47009 images belonging to 2 classes.\n",
            "Found 11649 images belonging to 2 classes.\n"
          ]
        }
      ],
      "source": [
        "from keras.preprocessing.image import ImageDataGenerator\n",
        "from keras.models import Sequential\n",
        "from keras.layers import Conv2D, MaxPool2D\n",
        "from keras.layers import Dense, Activation, Dropout, Flatten, Conv2D, MaxPooling2D\n",
        "from keras.layers import Activation, Dropout, Flatten, Dense,  BatchNormalization\n",
        "from keras import backend as K\n",
        "\n",
        "train_datagen = ImageDataGenerator(rescale = 1./255,\n",
        "\t  rotation_range=40,\n",
        "      width_shift_range=0.2,\n",
        "      height_shift_range=0.2,\n",
        "      shear_range=0.2,\n",
        "      zoom_range=0.2,\n",
        "      horizontal_flip=True,\n",
        "      fill_mode='nearest')\n",
        "\n",
        "\n",
        "test_datagen = ImageDataGenerator( rescale = 1.0/255)\n",
        "\n",
        "train_generator = train_datagen.flow_from_directory(\"/content/Training/\",\n",
        "                                                    batch_size =256 ,\n",
        "                                                    class_mode = 'binary', \n",
        "                                                    target_size = (64, 64))     \n",
        "\n",
        "validation_generator =  test_datagen.flow_from_directory( \"/content/Validation/\",\n",
        "                                                          batch_size  = 256,\n",
        "                                                          class_mode  = 'binary', \n",
        "                                                          target_size = (64, 64))"
      ]
    },
    {
      "cell_type": "code",
      "source": [
        "\n",
        "model = Sequential()\n",
        "\n",
        "model.add(Conv2D(96, (11,11),strides=(4,4), activation='relu', input_shape=(64, 64, 3)))\n",
        "model.add(BatchNormalization())\n",
        "model.add(MaxPooling2D(2, strides=(2,2)))\n",
        "  \n",
        "model.add(Conv2D(256, (11,11),strides=(1,1), activation='relu',padding=\"same\"))\n",
        "model.add(BatchNormalization())\n",
        "\n",
        "model.add(Conv2D(384, (3,3),strides=(1,1), activation='relu',padding=\"same\"))\n",
        "model.add(BatchNormalization())\n",
        "\n",
        "model.add(Conv2D(384, (3,3),strides=(1,1), activation='relu',padding=\"same\"))\n",
        "model.add(BatchNormalization())\n",
        "\n",
        "model.add(Conv2D(256, (3, 3), strides=(1, 1), activation='relu',padding=\"same\"))\n",
        "model.add(BatchNormalization())\n",
        "model.add(MaxPooling2D(2, strides=(2, 2)))\n",
        "\n",
        "model.add(Flatten())\n",
        "\n",
        "model.add(Dense(4096, activation='relu'))\n",
        "model.add(Dropout(0.5))\n",
        "\n",
        "model.add(Dense(4096, activation='relu'))\n",
        "model.add(Dropout(0.5))\n",
        "model.add(Dense(1, activation='sigmoid'))\n",
        "model.compile(\n",
        "    optimizer='adam',\n",
        "    loss='binary_crossentropy',\n",
        "    metrics=['accuracy']\n",
        "   )\n",
        "model.summary()"
      ],
      "metadata": {
        "colab": {
          "base_uri": "https://localhost:8080/"
        },
        "id": "x-jceODZWQIV",
        "outputId": "3d899fec-b708-49b1-a0b2-ec03af1772e3"
      },
      "execution_count": 16,
      "outputs": [
        {
          "output_type": "stream",
          "name": "stdout",
          "text": [
            "Model: \"sequential_3\"\n",
            "_________________________________________________________________\n",
            " Layer (type)                Output Shape              Param #   \n",
            "=================================================================\n",
            " conv2d_15 (Conv2D)          (None, 14, 14, 96)        34944     \n",
            "                                                                 \n",
            " batch_normalization_15 (Bat  (None, 14, 14, 96)       384       \n",
            " chNormalization)                                                \n",
            "                                                                 \n",
            " max_pooling2d_6 (MaxPooling  (None, 7, 7, 96)         0         \n",
            " 2D)                                                             \n",
            "                                                                 \n",
            " conv2d_16 (Conv2D)          (None, 7, 7, 256)         2973952   \n",
            "                                                                 \n",
            " batch_normalization_16 (Bat  (None, 7, 7, 256)        1024      \n",
            " chNormalization)                                                \n",
            "                                                                 \n",
            " conv2d_17 (Conv2D)          (None, 7, 7, 384)         885120    \n",
            "                                                                 \n",
            " batch_normalization_17 (Bat  (None, 7, 7, 384)        1536      \n",
            " chNormalization)                                                \n",
            "                                                                 \n",
            " conv2d_18 (Conv2D)          (None, 7, 7, 384)         1327488   \n",
            "                                                                 \n",
            " batch_normalization_18 (Bat  (None, 7, 7, 384)        1536      \n",
            " chNormalization)                                                \n",
            "                                                                 \n",
            " conv2d_19 (Conv2D)          (None, 7, 7, 256)         884992    \n",
            "                                                                 \n",
            " batch_normalization_19 (Bat  (None, 7, 7, 256)        1024      \n",
            " chNormalization)                                                \n",
            "                                                                 \n",
            " max_pooling2d_7 (MaxPooling  (None, 3, 3, 256)        0         \n",
            " 2D)                                                             \n",
            "                                                                 \n",
            " flatten_3 (Flatten)         (None, 2304)              0         \n",
            "                                                                 \n",
            " dense_9 (Dense)             (None, 4096)              9441280   \n",
            "                                                                 \n",
            " dropout_6 (Dropout)         (None, 4096)              0         \n",
            "                                                                 \n",
            " dense_10 (Dense)            (None, 4096)              16781312  \n",
            "                                                                 \n",
            " dropout_7 (Dropout)         (None, 4096)              0         \n",
            "                                                                 \n",
            " dense_11 (Dense)            (None, 1)                 4097      \n",
            "                                                                 \n",
            "=================================================================\n",
            "Total params: 32,338,689\n",
            "Trainable params: 32,335,937\n",
            "Non-trainable params: 2,752\n",
            "_________________________________________________________________\n"
          ]
        }
      ]
    },
    {
      "cell_type": "code",
      "source": [
        "hist = model.fit_generator(generator=train_generator,\n",
        "                    validation_data=validation_generator,\n",
        "                    epochs=10)"
      ],
      "metadata": {
        "colab": {
          "base_uri": "https://localhost:8080/"
        },
        "id": "z9g12rdnXFpJ",
        "outputId": "537ac623-04f1-4c47-ae93-fe1c0e630d57"
      },
      "execution_count": 14,
      "outputs": [
        {
          "output_type": "stream",
          "name": "stderr",
          "text": [
            "/usr/local/lib/python3.7/dist-packages/ipykernel_launcher.py:3: UserWarning: `Model.fit_generator` is deprecated and will be removed in a future version. Please use `Model.fit`, which supports generators.\n",
            "  This is separate from the ipykernel package so we can avoid doing imports until\n"
          ]
        },
        {
          "output_type": "stream",
          "name": "stdout",
          "text": [
            "Epoch 1/10\n",
            "184/184 [==============================] - 80s 432ms/step - loss: 0.9961 - accuracy: 0.6143 - val_loss: 0.7104 - val_accuracy: 0.5214\n",
            "Epoch 2/10\n",
            "184/184 [==============================] - 79s 431ms/step - loss: 0.4625 - accuracy: 0.7881 - val_loss: 0.5797 - val_accuracy: 0.6910\n",
            "Epoch 3/10\n",
            "184/184 [==============================] - 79s 430ms/step - loss: 0.3542 - accuracy: 0.8538 - val_loss: 0.2856 - val_accuracy: 0.8873\n",
            "Epoch 4/10\n",
            "184/184 [==============================] - 79s 431ms/step - loss: 0.3107 - accuracy: 0.8744 - val_loss: 1.1382 - val_accuracy: 0.6580\n",
            "Epoch 5/10\n",
            "184/184 [==============================] - 80s 435ms/step - loss: 0.2835 - accuracy: 0.8875 - val_loss: 0.2584 - val_accuracy: 0.9068\n",
            "Epoch 6/10\n",
            "184/184 [==============================] - 79s 430ms/step - loss: 0.2610 - accuracy: 0.8988 - val_loss: 0.2986 - val_accuracy: 0.8886\n",
            "Epoch 7/10\n",
            "184/184 [==============================] - 79s 430ms/step - loss: 0.2464 - accuracy: 0.9056 - val_loss: 0.3179 - val_accuracy: 0.8663\n",
            "Epoch 8/10\n",
            "184/184 [==============================] - 79s 429ms/step - loss: 0.2373 - accuracy: 0.9091 - val_loss: 0.2748 - val_accuracy: 0.8945\n",
            "Epoch 9/10\n",
            "184/184 [==============================] - 79s 430ms/step - loss: 0.2224 - accuracy: 0.9160 - val_loss: 0.2880 - val_accuracy: 0.8613\n",
            "Epoch 10/10\n",
            "184/184 [==============================] - 79s 429ms/step - loss: 0.2191 - accuracy: 0.9160 - val_loss: 0.2160 - val_accuracy: 0.9190\n"
          ]
        }
      ]
    },
    {
      "cell_type": "code",
      "source": [
        "model.save('laba7_male_female.h5')"
      ],
      "metadata": {
        "id": "NPs__5yzg_Z9"
      },
      "execution_count": 15,
      "outputs": []
    }
  ]
}