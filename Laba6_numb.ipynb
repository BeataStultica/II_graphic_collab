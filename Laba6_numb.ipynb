{
  "nbformat": 4,
  "nbformat_minor": 0,
  "metadata": {
    "colab": {
      "name": "Laba6_numb.ipynb",
      "provenance": [],
      "collapsed_sections": [],
      "authorship_tag": "ABX9TyNVVgftznt+xI0YzbA4Ef/u",
      "include_colab_link": true
    },
    "kernelspec": {
      "name": "python3",
      "display_name": "Python 3"
    },
    "language_info": {
      "name": "python"
    }
  },
  "cells": [
    {
      "cell_type": "markdown",
      "metadata": {
        "id": "view-in-github",
        "colab_type": "text"
      },
      "source": [
        "<a href=\"https://colab.research.google.com/github/BeataStultica/II_graphic_collab/blob/main/Laba6_numb.ipynb\" target=\"_parent\"><img src=\"https://colab.research.google.com/assets/colab-badge.svg\" alt=\"Open In Colab\"/></a>"
      ]
    },
    {
      "cell_type": "code",
      "execution_count": 18,
      "metadata": {
        "colab": {
          "base_uri": "https://localhost:8080/"
        },
        "id": "i8bAC3lCnepC",
        "outputId": "44e2f52f-5efa-4d87-ee47-252e68c59d0f"
      },
      "outputs": [
        {
          "output_type": "stream",
          "name": "stdout",
          "text": [
            "Downloading data from https://storage.googleapis.com/tensorflow/tf-keras-datasets/mnist.npz\n",
            "11493376/11490434 [==============================] - 0s 0us/step\n",
            "11501568/11490434 [==============================] - 0s 0us/step\n"
          ]
        }
      ],
      "source": [
        "from keras.datasets import mnist\n",
        "(train_images, traain_labels), (test_imaes, test_labels) = mnist.load_data()"
      ]
    },
    {
      "cell_type": "code",
      "source": [
        "import cv2\n",
        "from google.colab.patches import cv2_imshow\n",
        "cv2_imshow(train_images[1])\n"
      ],
      "metadata": {
        "colab": {
          "base_uri": "https://localhost:8080/",
          "height": 45
        },
        "id": "-fD9UD2kvMUi",
        "outputId": "79704387-fee9-4764-d41e-fcbbc5b9ed13"
      },
      "execution_count": 19,
      "outputs": [
        {
          "output_type": "display_data",
          "data": {
            "text/plain": [
              "<PIL.Image.Image image mode=L size=28x28 at 0x7FCBE3CB0810>"
            ],
            "image/png": "[encoded data removed]"
          },
          "metadata": {}
        }
      ]
    },
    {
      "cell_type": "code",
      "source": [
        "train_images = train_images.reshape((60000, 28*28))\n",
        "train_images = train_images.astype('float32')/255\n",
        "test_imaes = test_imaes.reshape((10000,28*28))\n",
        "test_imaes = test_imaes.astype('float32')/255"
      ],
      "metadata": {
        "id": "Ngh0VwJzvtd3"
      },
      "execution_count": 20,
      "outputs": []
    },
    {
      "cell_type": "code",
      "source": [
        "from keras import models, layers\n",
        "\n",
        "network = models.Sequential()\n",
        "network.add(layers.Dense(512, activation='relu', input_shape=(28*28,)))\n",
        "network.add(layers.Dense(10, activation='softmax'))\n"
      ],
      "metadata": {
        "id": "DFAPIrVwwV10"
      },
      "execution_count": 21,
      "outputs": []
    },
    {
      "cell_type": "code",
      "source": [
        "#model.compile(optimizer='rmsprop', loss='categorical_crossentropy', metrics=['accuracy'])\n",
        "network.compile(optimizer='rmsprop', loss='sparse_categorical_crossentropy', metrics=['accuracy'])"
      ],
      "metadata": {
        "id": "W408dJCrw5zP"
      },
      "execution_count": 22,
      "outputs": []
    },
    {
      "cell_type": "code",
      "source": [
        "network.fit(train_images, traain_labels, epochs=5, batch_size=128)"
      ],
      "metadata": {
        "colab": {
          "base_uri": "https://localhost:8080/"
        },
        "id": "vB77A-mkxaZA",
        "outputId": "1379c74f-fd66-4288-e756-754d7e970965"
      },
      "execution_count": 23,
      "outputs": [
        {
          "output_type": "stream",
          "name": "stdout",
          "text": [
            "Epoch 1/5\n",
            "469/469 [==============================] - 7s 14ms/step - loss: 0.2539 - accuracy: 0.9260\n",
            "Epoch 2/5\n",
            "469/469 [==============================] - 6s 14ms/step - loss: 0.1029 - accuracy: 0.9700\n",
            "Epoch 3/5\n",
            "469/469 [==============================] - 7s 15ms/step - loss: 0.0678 - accuracy: 0.9802\n",
            "Epoch 4/5\n",
            "469/469 [==============================] - 7s 14ms/step - loss: 0.0494 - accuracy: 0.9855\n",
            "Epoch 5/5\n",
            "469/469 [==============================] - 6s 13ms/step - loss: 0.0366 - accuracy: 0.9891\n"
          ]
        },
        {
          "output_type": "execute_result",
          "data": {
            "text/plain": [
              "<keras.callbacks.History at 0x7fcbd77e6710>"
            ]
          },
          "metadata": {},
          "execution_count": 23
        }
      ]
    },
    {
      "cell_type": "code",
      "source": [
        "test_loss, test_acc = network.evaluate(test_imaes, test_labels)"
      ],
      "metadata": {
        "colab": {
          "base_uri": "https://localhost:8080/"
        },
        "id": "b3rba6AmyWM1",
        "outputId": "c58c05df-7d40-45af-90b4-f4b64ff7ca56"
      },
      "execution_count": 24,
      "outputs": [
        {
          "output_type": "stream",
          "name": "stdout",
          "text": [
            "313/313 [==============================] - 1s 4ms/step - loss: 0.0670 - accuracy: 0.9798\n"
          ]
        }
      ]
    },
    {
      "cell_type": "code",
      "source": [
        "network.save('laba6_numb.h5')"
      ],
      "metadata": {
        "id": "aXRC7m6Ryius"
      },
      "execution_count": 25,
      "outputs": []
    },
    {
      "cell_type": "markdown",
      "source": [
        "# Пункт 2 - CIFAR10\n"
      ],
      "metadata": {
        "id": "yb6lCsnu2plu"
      }
    },
    {
      "cell_type": "code",
      "source": [
        "import numpy as np\n",
        "import pickle\n",
        "import os\n",
        "import numpy as np\n",
        "import matplotlib.pyplot as plt\n",
        "%matplotlib inline\n",
        "def unpickle(file):\n",
        " with open(file, 'rb') as f:\n",
        "  data = pickle.load(f, encoding='latin-1')\n",
        "  return data\n",
        "from keras.datasets import cifar10\n",
        "(X_train, Y_train), (X_test, Y_test) = cifar10.load_data()"
      ],
      "metadata": {
        "id": "7lq4Sn1DC5Gv"
      },
      "execution_count": 74,
      "outputs": []
    },
    {
      "cell_type": "code",
      "source": [
        "from google.colab.patches import cv2_imshow\n",
        "cv2_imshow(X_train[1])"
      ],
      "metadata": {
        "colab": {
          "base_uri": "https://localhost:8080/",
          "height": 49
        },
        "id": "LUP5EanVNrKo",
        "outputId": "c95985d5-9275-4e8d-8b79-5dc27c6c0578"
      },
      "execution_count": 31,
      "outputs": [
        {
          "output_type": "display_data",
          "data": {
            "text/plain": [
              "<PIL.Image.Image image mode=RGB size=32x32 at 0x7FCBE116E550>"
            ],
            "image/png": "[encoded data removed]"
          },
          "metadata": {}
        }
      ]
    },
    {
      "cell_type": "code",
      "source": [
        "print('X_train shape:', X_train.shape)\n",
        "print('y_train shape:', Y_train.shape)\n",
        "print('X_test shape:', X_test.shape)\n",
        "print('y_test shape:', Y_test.shape)"
      ],
      "metadata": {
        "colab": {
          "base_uri": "https://localhost:8080/"
        },
        "id": "EFt4g0AcFvRd",
        "outputId": "525cfa77-74cb-448c-904f-f5eec435e02f"
      },
      "execution_count": 32,
      "outputs": [
        {
          "output_type": "stream",
          "name": "stdout",
          "text": [
            "X_train shape: (50000, 32, 32, 3)\n",
            "y_train shape: (50000, 1)\n",
            "X_test shape: (10000, 32, 32, 3)\n",
            "y_test shape: (10000, 1)\n"
          ]
        }
      ]
    },
    {
      "cell_type": "code",
      "source": [
        "X_train = X_train.reshape((50000,32*32*3))\n",
        "X_train = X_train.astype('float32')/255\n",
        "X_test = X_test.reshape((10000,32*32*3))\n",
        "X_test = X_test.astype('float32')/255"
      ],
      "metadata": {
        "id": "MGb_c2zcG1fL"
      },
      "execution_count": 75,
      "outputs": []
    },
    {
      "cell_type": "code",
      "source": [
        "from keras import models, layers\n",
        "\n",
        "network = models.Sequential()\n",
        "network.add(layers.Dense(512, activation='relu', input_shape=(32*32*3,)))\n",
        "network.add(layers.Dense(256, activation='relu'))\n",
        "network.add(layers.Dense(10, activation='softmax'))"
      ],
      "metadata": {
        "id": "J9h0CvqzHVoD"
      },
      "execution_count": 76,
      "outputs": []
    },
    {
      "cell_type": "code",
      "source": [
        "network.compile(optimizer='adam', loss='sparse_categorical_crossentropy', metrics=['accuracy'])"
      ],
      "metadata": {
        "id": "Q428874BIHNd"
      },
      "execution_count": 77,
      "outputs": []
    },
    {
      "cell_type": "code",
      "source": [
        "print('X_train shape:', X_train.shape)\n",
        "print('y_train shape:', Y_train.shape)\n",
        "print('X_test shape:', X_test.shape)\n",
        "print('y_test shape:', Y_test.shape)"
      ],
      "metadata": {
        "colab": {
          "base_uri": "https://localhost:8080/"
        },
        "id": "8wcq2CU4IwGr",
        "outputId": "de0696b2-628d-4f20-babf-bf7d770e63a2"
      },
      "execution_count": 62,
      "outputs": [
        {
          "output_type": "stream",
          "name": "stdout",
          "text": [
            "X_train shape: (50000, 3072)\n",
            "y_train shape: (50000, 1)\n",
            "X_test shape: (10000, 3072)\n",
            "y_test shape: (10000, 1)\n"
          ]
        }
      ]
    },
    {
      "cell_type": "code",
      "source": [
        "network.fit(X_train, Y_train, epochs=15, batch_size=128)"
      ],
      "metadata": {
        "colab": {
          "base_uri": "https://localhost:8080/"
        },
        "id": "f3s13Tg9ILs1",
        "outputId": "91723030-7ddf-4319-8f8f-9cbbe0b25713"
      },
      "execution_count": 78,
      "outputs": [
        {
          "output_type": "stream",
          "name": "stdout",
          "text": [
            "Epoch 1/15\n",
            "391/391 [==============================] - 13s 31ms/step - loss: 1.9129 - accuracy: 0.3189\n",
            "Epoch 2/15\n",
            "391/391 [==============================] - 12s 31ms/step - loss: 1.6856 - accuracy: 0.3989\n",
            "Epoch 3/15\n",
            "391/391 [==============================] - 12s 31ms/step - loss: 1.5928 - accuracy: 0.4341\n",
            "Epoch 4/15\n",
            "391/391 [==============================] - 12s 31ms/step - loss: 1.5322 - accuracy: 0.4530\n",
            "Epoch 5/15\n",
            "391/391 [==============================] - 12s 31ms/step - loss: 1.5018 - accuracy: 0.4636\n",
            "Epoch 6/15\n",
            "391/391 [==============================] - 12s 31ms/step - loss: 1.4640 - accuracy: 0.4763\n",
            "Epoch 7/15\n",
            "391/391 [==============================] - 12s 31ms/step - loss: 1.4318 - accuracy: 0.4911\n",
            "Epoch 8/15\n",
            "391/391 [==============================] - 12s 31ms/step - loss: 1.3992 - accuracy: 0.5020\n",
            "Epoch 9/15\n",
            "391/391 [==============================] - 12s 31ms/step - loss: 1.3712 - accuracy: 0.5127\n",
            "Epoch 10/15\n",
            "391/391 [==============================] - 12s 31ms/step - loss: 1.3507 - accuracy: 0.5163\n",
            "Epoch 11/15\n",
            "391/391 [==============================] - 13s 32ms/step - loss: 1.3291 - accuracy: 0.5271\n",
            "Epoch 12/15\n",
            "391/391 [==============================] - 13s 33ms/step - loss: 1.3106 - accuracy: 0.5338\n",
            "Epoch 13/15\n",
            "391/391 [==============================] - 13s 33ms/step - loss: 1.2836 - accuracy: 0.5429\n",
            "Epoch 14/15\n",
            "391/391 [==============================] - 13s 32ms/step - loss: 1.2661 - accuracy: 0.5483\n",
            "Epoch 15/15\n",
            "391/391 [==============================] - 13s 33ms/step - loss: 1.2434 - accuracy: 0.5562\n"
          ]
        },
        {
          "output_type": "execute_result",
          "data": {
            "text/plain": [
              "<keras.callbacks.History at 0x7fcbcfddbe90>"
            ]
          },
          "metadata": {},
          "execution_count": 78
        }
      ]
    },
    {
      "cell_type": "code",
      "source": [
        "test_loss, test_acc = network.evaluate(X_test, Y_test)"
      ],
      "metadata": {
        "colab": {
          "base_uri": "https://localhost:8080/"
        },
        "id": "xkNjGdryKceM",
        "outputId": "e7019dd1-1fc8-4faf-8a84-30f1b4201335"
      },
      "execution_count": 64,
      "outputs": [
        {
          "output_type": "stream",
          "name": "stdout",
          "text": [
            "313/313 [==============================] - 3s 9ms/step - loss: 1.4581 - accuracy: 0.4837\n"
          ]
        }
      ]
    },
    {
      "cell_type": "code",
      "source": [
        "network.save('laba6_cifar.h5')"
      ],
      "metadata": {
        "id": "nALZbX2oKn-I"
      },
      "execution_count": 16,
      "outputs": []
    },
    {
      "cell_type": "code",
      "source": [
        ""
      ],
      "metadata": {
        "id": "00fl4-RtXPTr"
      },
      "execution_count": null,
      "outputs": []
    },
    {
      "cell_type": "markdown",
      "source": [
        "# Пункт 3 Fashion MNIST\n"
      ],
      "metadata": {
        "id": "pwOtIeEecjIa"
      }
    },
    {
      "cell_type": "code",
      "source": [
        "from keras.datasets import fashion_mnist\n",
        "(X_train, Y_train), (X_test, Y_test) = fashion_mnist.load_data()"
      ],
      "metadata": {
        "colab": {
          "base_uri": "https://localhost:8080/"
        },
        "id": "YLEVcGhCcsD6",
        "outputId": "c52791c9-76e4-4fac-d3b9-2ea66676c10f"
      },
      "execution_count": 65,
      "outputs": [
        {
          "output_type": "stream",
          "name": "stdout",
          "text": [
            "Downloading data from https://storage.googleapis.com/tensorflow/tf-keras-datasets/train-labels-idx1-ubyte.gz\n",
            "32768/29515 [=================================] - 0s 0us/step\n",
            "40960/29515 [=========================================] - 0s 0us/step\n",
            "Downloading data from https://storage.googleapis.com/tensorflow/tf-keras-datasets/train-images-idx3-ubyte.gz\n",
            "26427392/26421880 [==============================] - 0s 0us/step\n",
            "26435584/26421880 [==============================] - 0s 0us/step\n",
            "Downloading data from https://storage.googleapis.com/tensorflow/tf-keras-datasets/t10k-labels-idx1-ubyte.gz\n",
            "16384/5148 [===============================================================================================] - 0s 0us/step\n",
            "Downloading data from https://storage.googleapis.com/tensorflow/tf-keras-datasets/t10k-images-idx3-ubyte.gz\n",
            "4423680/4422102 [==============================] - 0s 0us/step\n",
            "4431872/4422102 [==============================] - 0s 0us/step\n"
          ]
        }
      ]
    },
    {
      "cell_type": "code",
      "source": [
        "from google.colab.patches import cv2_imshow\n",
        "cv2_imshow(X_train[1])"
      ],
      "metadata": {
        "colab": {
          "base_uri": "https://localhost:8080/",
          "height": 45
        },
        "id": "IpxUAIx6c9hm",
        "outputId": "41329d66-0a3e-4c08-b755-8c6829e0aeb1"
      },
      "execution_count": 66,
      "outputs": [
        {
          "output_type": "display_data",
          "data": {
            "text/plain": [
              "<PIL.Image.Image image mode=L size=28x28 at 0x7FCBCFDE4E90>"
            ],
            "image/png": "[encoded data removed]"
          },
          "metadata": {}
        }
      ]
    },
    {
      "cell_type": "code",
      "source": [
        "print('X_train shape:', X_train.shape)\n",
        "print('y_train shape:', Y_train.shape)\n",
        "print('X_test shape:', X_test.shape)\n",
        "print('y_test shape:', Y_test.shape)"
      ],
      "metadata": {
        "colab": {
          "base_uri": "https://localhost:8080/"
        },
        "id": "2HpIftzEdVcN",
        "outputId": "8652be40-7c19-4ac4-e16d-29bd7de6f08d"
      },
      "execution_count": 67,
      "outputs": [
        {
          "output_type": "stream",
          "name": "stdout",
          "text": [
            "X_train shape: (60000, 28, 28)\n",
            "y_train shape: (60000,)\n",
            "X_test shape: (10000, 28, 28)\n",
            "y_test shape: (10000,)\n"
          ]
        }
      ]
    },
    {
      "cell_type": "code",
      "source": [
        "X_train = X_train.reshape((60000,28*28))\n",
        "X_train = X_train.astype('float32')/255\n",
        "X_test = X_test.reshape((10000,28*28))\n",
        "X_test = X_test.astype('float32')/255"
      ],
      "metadata": {
        "id": "mDff2k7GdoZ9"
      },
      "execution_count": 68,
      "outputs": []
    },
    {
      "cell_type": "code",
      "source": [
        "from keras import models, layers\n",
        "\n",
        "network = models.Sequential()\n",
        "network.add(layers.Dense(512, activation='relu', input_shape=(28*28,)))\n",
        "network.add(layers.Dense(256, activation='relu'))\n",
        "network.add(layers.Dense(10, activation='softmax'))"
      ],
      "metadata": {
        "id": "4LmlZZFtdr7h"
      },
      "execution_count": 69,
      "outputs": []
    },
    {
      "cell_type": "code",
      "source": [
        "network.compile(optimizer='rmsprop', loss='sparse_categorical_crossentropy', metrics=['accuracy'])"
      ],
      "metadata": {
        "id": "c2MBhOCzdwP9"
      },
      "execution_count": 70,
      "outputs": []
    },
    {
      "cell_type": "code",
      "source": [
        "network.fit(X_train, Y_train, epochs=15, batch_size=128)"
      ],
      "metadata": {
        "colab": {
          "base_uri": "https://localhost:8080/"
        },
        "id": "535wT-9AeBlp",
        "outputId": "703285eb-bad9-4cc1-a608-b4f462eba3df"
      },
      "execution_count": 71,
      "outputs": [
        {
          "output_type": "stream",
          "name": "stdout",
          "text": [
            "Epoch 1/15\n",
            "469/469 [==============================] - 9s 17ms/step - loss: 0.5432 - accuracy: 0.7995\n",
            "Epoch 2/15\n",
            "469/469 [==============================] - 8s 17ms/step - loss: 0.3774 - accuracy: 0.8608\n",
            "Epoch 3/15\n",
            "469/469 [==============================] - 8s 17ms/step - loss: 0.3331 - accuracy: 0.8755\n",
            "Epoch 4/15\n",
            "469/469 [==============================] - 8s 17ms/step - loss: 0.3086 - accuracy: 0.8845\n",
            "Epoch 5/15\n",
            "469/469 [==============================] - 8s 18ms/step - loss: 0.2915 - accuracy: 0.8913\n",
            "Epoch 6/15\n",
            "469/469 [==============================] - 9s 18ms/step - loss: 0.2774 - accuracy: 0.8967\n",
            "Epoch 7/15\n",
            "469/469 [==============================] - 8s 18ms/step - loss: 0.2638 - accuracy: 0.9017\n",
            "Epoch 8/15\n",
            "469/469 [==============================] - 8s 18ms/step - loss: 0.2534 - accuracy: 0.9055\n",
            "Epoch 9/15\n",
            "469/469 [==============================] - 8s 17ms/step - loss: 0.2458 - accuracy: 0.9079\n",
            "Epoch 10/15\n",
            "469/469 [==============================] - 8s 17ms/step - loss: 0.2382 - accuracy: 0.9105\n",
            "Epoch 11/15\n",
            "469/469 [==============================] - 8s 17ms/step - loss: 0.2287 - accuracy: 0.9149\n",
            "Epoch 12/15\n",
            "469/469 [==============================] - 9s 19ms/step - loss: 0.2228 - accuracy: 0.9158\n",
            "Epoch 13/15\n",
            "469/469 [==============================] - 8s 17ms/step - loss: 0.2180 - accuracy: 0.9193\n",
            "Epoch 14/15\n",
            "469/469 [==============================] - 10s 22ms/step - loss: 0.2128 - accuracy: 0.9219\n",
            "Epoch 15/15\n",
            "469/469 [==============================] - 8s 18ms/step - loss: 0.2068 - accuracy: 0.9232\n"
          ]
        },
        {
          "output_type": "execute_result",
          "data": {
            "text/plain": [
              "<keras.callbacks.History at 0x7fcbced14350>"
            ]
          },
          "metadata": {},
          "execution_count": 71
        }
      ]
    },
    {
      "cell_type": "code",
      "source": [
        "test_loss, test_acc = network.evaluate(X_test, Y_test)"
      ],
      "metadata": {
        "colab": {
          "base_uri": "https://localhost:8080/"
        },
        "id": "piKAnLourOGf",
        "outputId": "0f956f8c-08c4-40b7-b3a5-dd2b38e4b5c4"
      },
      "execution_count": 72,
      "outputs": [
        {
          "output_type": "stream",
          "name": "stdout",
          "text": [
            "313/313 [==============================] - 2s 5ms/step - loss: 0.3953 - accuracy: 0.8932\n"
          ]
        }
      ]
    },
    {
      "cell_type": "code",
      "source": [
        "network.save('laba6_mnist.h5')"
      ],
      "metadata": {
        "id": "1ENeGPi6rSMX"
      },
      "execution_count": 73,
      "outputs": []
    }
  ]
}