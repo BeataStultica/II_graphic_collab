{
  "nbformat": 4,
  "nbformat_minor": 0,
  "metadata": {
    "colab": {
      "name": "Laba6_numb.ipynb",
      "provenance": [],
      "collapsed_sections": [],
      "authorship_tag": "ABX9TyMGfYl8cHtCw87o8O7e92UM",
      "include_colab_link": true
    },
    "kernelspec": {
      "name": "python3",
      "display_name": "Python 3"
    },
    "language_info": {
      "name": "python"
    }
  },
  "cells": [
    {
      "cell_type": "markdown",
      "metadata": {
        "id": "view-in-github",
        "colab_type": "text"
      },
      "source": [
        "<a href=\"https://colab.research.google.com/github/BeataStultica/II_graphic_collab/blob/main/Laba6_numb.ipynb\" target=\"_parent\"><img src=\"https://colab.research.google.com/assets/colab-badge.svg\" alt=\"Open In Colab\"/></a>"
      ]
    },
    {
      "cell_type": "code",
      "execution_count": 18,
      "metadata": {
        "colab": {
          "base_uri": "https://localhost:8080/"
        },
        "id": "i8bAC3lCnepC",
        "outputId": "44e2f52f-5efa-4d87-ee47-252e68c59d0f"
      },
      "outputs": [
        {
          "output_type": "stream",
          "name": "stdout",
          "text": [
            "Downloading data from https://storage.googleapis.com/tensorflow/tf-keras-datasets/mnist.npz\n",
            "11493376/11490434 [==============================] - 0s 0us/step\n",
            "11501568/11490434 [==============================] - 0s 0us/step\n"
          ]
        }
      ],
      "source": [
        "from keras.datasets import mnist\n",
        "(train_images, traain_labels), (test_imaes, test_labels) = mnist.load_data()"
      ]
    },
    {
      "cell_type": "code",
      "source": [
        "import cv2\n",
        "from google.colab.patches import cv2_imshow\n",
        "cv2_imshow(train_images[1])\n"
      ],
      "metadata": {
        "colab": {
          "base_uri": "https://localhost:8080/",
          "height": 45
        },
        "id": "-fD9UD2kvMUi",
        "outputId": "79704387-fee9-4764-d41e-fcbbc5b9ed13"
      },
      "execution_count": 19,
      "outputs": [
        {
          "output_type": "display_data",
          "data": {
            "text/plain": [
              "<PIL.Image.Image image mode=L size=28x28 at 0x7FCBE3CB0810>"
            ],
            "image/png": "[encoded data removed]"
          },
          "metadata": {}
        }
      ]
    },
    {
      "cell_type": "code",
      "source": [
        "train_images = train_images.reshape((60000, 28*28))\n",
        "train_images = train_images.astype('float32')/255\n",
        "test_imaes = test_imaes.reshape((10000,28*28))\n",
        "test_imaes = test_imaes.astype('float32')/255"
      ],
      "metadata": {
        "id": "Ngh0VwJzvtd3"
      },
      "execution_count": 20,
      "outputs": []
    },
    {
      "cell_type": "code",
      "source": [
        "from keras import models, layers\n",
        "\n",
        "network = models.Sequential()\n",
        "network.add(layers.Dense(512, activation='relu', input_shape=(28*28,)))\n",
        "network.add(layers.Dense(10, activation='softmax'))\n"
      ],
      "metadata": {
        "id": "DFAPIrVwwV10"
      },
      "execution_count": 21,
      "outputs": []
    },
    {
      "cell_type": "code",
      "source": [
        "#model.compile(optimizer='rmsprop', loss='categorical_crossentropy', metrics=['accuracy'])\n",
        "network.compile(optimizer='rmsprop', loss='sparse_categorical_crossentropy', metrics=['accuracy'])"
      ],
      "metadata": {
        "id": "W408dJCrw5zP"
      },
      "execution_count": 22,
      "outputs": []
    },
    {
      "cell_type": "code",
      "source": [
        "network.fit(train_images, traain_labels, epochs=5, batch_size=128)"
      ],
      "metadata": {
        "colab": {
          "base_uri": "https://localhost:8080/"
        },
        "id": "vB77A-mkxaZA",
        "outputId": "1379c74f-fd66-4288-e756-754d7e970965"
      },
      "execution_count": 23,
      "outputs": [
        {
          "output_type": "stream",
          "name": "stdout",
          "text": [
            "Epoch 1/5\n",
            "469/469 [==============================] - 7s 14ms/step - loss: 0.2539 - accuracy: 0.9260\n",
            "Epoch 2/5\n",
            "469/469 [==============================] - 6s 14ms/step - loss: 0.1029 - accuracy: 0.9700\n",
            "Epoch 3/5\n",
            "469/469 [==============================] - 7s 15ms/step - loss: 0.0678 - accuracy: 0.9802\n",
            "Epoch 4/5\n",
            "469/469 [==============================] - 7s 14ms/step - loss: 0.0494 - accuracy: 0.9855\n",
            "Epoch 5/5\n",
            "469/469 [==============================] - 6s 13ms/step - loss: 0.0366 - accuracy: 0.9891\n"
          ]
        },
        {
          "output_type": "execute_result",
          "data": {
            "text/plain": [
              "<keras.callbacks.History at 0x7fcbd77e6710>"
            ]
          },
          "metadata": {},
          "execution_count": 23
        }
      ]
    },
    {
      "cell_type": "code",
      "source": [
        "test_loss, test_acc = network.evaluate(test_imaes, test_labels)"
      ],
      "metadata": {
        "colab": {
          "base_uri": "https://localhost:8080/"
        },
        "id": "b3rba6AmyWM1",
        "outputId": "c58c05df-7d40-45af-90b4-f4b64ff7ca56"
      },
      "execution_count": 24,
      "outputs": [
        {
          "output_type": "stream",
          "name": "stdout",
          "text": [
            "313/313 [==============================] - 1s 4ms/step - loss: 0.0670 - accuracy: 0.9798\n"
          ]
        }
      ]
    },
    {
      "cell_type": "code",
      "source": [
        "network.save('laba6_numb.h5')"
      ],
      "metadata": {
        "id": "aXRC7m6Ryius"
      },
      "execution_count": 25,
      "outputs": []
    },
    {
      "cell_type": "markdown",
      "source": [
        "# Пункт 2 - CIFAR10\n"
      ],
      "metadata": {
        "id": "yb6lCsnu2plu"
      }
    },
    {
      "cell_type": "code",
      "source": [
        "import numpy as np\n",
        "import pickle\n",
        "import os\n",
        "import numpy as np\n",
        "import matplotlib.pyplot as plt\n",
        "%matplotlib inline\n",
        "def unpickle(file):\n",
        " with open(file, 'rb') as f:\n",
        "  data = pickle.load(f, encoding='latin-1')\n",
        "  return data\n",
        "from keras.datasets import cifar10\n",
        "(X_train, Y_train), (X_test, Y_test) = cifar10.load_data()"
      ],
      "metadata": {
        "id": "7lq4Sn1DC5Gv"
      },
      "execution_count": 30,
      "outputs": []
    },
    {
      "cell_type": "code",
      "source": [
        "from google.colab.patches import cv2_imshow\n",
        "cv2_imshow(X_train[1])"
      ],
      "metadata": {
        "colab": {
          "base_uri": "https://localhost:8080/",
          "height": 49
        },
        "id": "LUP5EanVNrKo",
        "outputId": "c95985d5-9275-4e8d-8b79-5dc27c6c0578"
      },
      "execution_count": 31,
      "outputs": [
        {
          "output_type": "display_data",
          "data": {
            "text/plain": [
              "<PIL.Image.Image image mode=RGB size=32x32 at 0x7FCBE116E550>"
            ],
            "image/png": "[encoded data removed]"
          },
          "metadata": {}
        }
      ]
    },
    {
      "cell_type": "code",
      "source": [
        "print('X_train shape:', X_train.shape)\n",
        "print('y_train shape:', Y_train.shape)\n",
        "print('X_test shape:', X_test.shape)\n",
        "print('y_test shape:', Y_test.shape)"
      ],
      "metadata": {
        "colab": {
          "base_uri": "https://localhost:8080/"
        },
        "id": "EFt4g0AcFvRd",
        "outputId": "525cfa77-74cb-448c-904f-f5eec435e02f"
      },
      "execution_count": 32,
      "outputs": [
        {
          "output_type": "stream",
          "name": "stdout",
          "text": [
            "X_train shape: (50000, 32, 32, 3)\n",
            "y_train shape: (50000, 1)\n",
            "X_test shape: (10000, 32, 32, 3)\n",
            "y_test shape: (10000, 1)\n"
          ]
        }
      ]
    },
    {
      "cell_type": "code",
      "source": [
        "X_train_unshuf_unscaled = X_train\n",
        "X_train_unshuf_reshaped_unscaled=X_train_unshuf_unscaled.reshape(50000,32*3*32)\n",
        "X_train_unshuf_reshaped_unscaled"
      ],
      "metadata": {
        "colab": {
          "base_uri": "https://localhost:8080/"
        },
        "id": "R5EFUgbjF16W",
        "outputId": "ec7032b7-9012-47b8-a170-57d518cef34a"
      },
      "execution_count": 33,
      "outputs": [
        {
          "output_type": "execute_result",
          "data": {
            "text/plain": [
              "array([[ 59,  62,  63, ..., 123,  92,  72],\n",
              "       [154, 177, 187, ..., 143, 133, 144],\n",
              "       [255, 255, 255, ...,  80,  86,  84],\n",
              "       ...,\n",
              "       [ 35, 178, 235, ...,  12,  31,  50],\n",
              "       [189, 211, 240, ..., 195, 190, 171],\n",
              "       [229, 229, 239, ..., 163, 163, 161]], dtype=uint8)"
            ]
          },
          "metadata": {},
          "execution_count": 33
        }
      ]
    },
    {
      "cell_type": "code",
      "source": [
        "X_train = X_train.reshape((50000,32*32*3))\n",
        "X_train = X_train.astype('float32')/255\n",
        "X_test = X_test.reshape((10000,32*32*3))\n",
        "X_test = X_test.astype('float32')/255"
      ],
      "metadata": {
        "id": "MGb_c2zcG1fL"
      },
      "execution_count": 34,
      "outputs": []
    },
    {
      "cell_type": "code",
      "source": [
        "from keras import models, layers\n",
        "\n",
        "network = models.Sequential()\n",
        "network.add(layers.Dense(512, activation='relu', input_shape=(32*32*3,)))\n",
        "network.add(layers.Dense(256, activation='relu'))\n",
        "network.add(layers.Dense(10, activation='softmax'))"
      ],
      "metadata": {
        "id": "J9h0CvqzHVoD"
      },
      "execution_count": 35,
      "outputs": []
    },
    {
      "cell_type": "code",
      "source": [
        "network.compile(optimizer='rmsprop', loss='sparse_categorical_crossentropy', metrics=['accuracy'])"
      ],
      "metadata": {
        "id": "Q428874BIHNd"
      },
      "execution_count": 36,
      "outputs": []
    },
    {
      "cell_type": "code",
      "source": [
        "print('X_train shape:', X_train.shape)\n",
        "print('y_train shape:', Y_train.shape)\n",
        "print('X_test shape:', X_test.shape)\n",
        "print('y_test shape:', Y_test.shape)"
      ],
      "metadata": {
        "colab": {
          "base_uri": "https://localhost:8080/"
        },
        "id": "8wcq2CU4IwGr",
        "outputId": "6cc8395d-fbc6-4978-9236-d9a4f0f41a19"
      },
      "execution_count": 37,
      "outputs": [
        {
          "output_type": "stream",
          "name": "stdout",
          "text": [
            "X_train shape: (50000, 3072)\n",
            "y_train shape: (50000, 1)\n",
            "X_test shape: (10000, 3072)\n",
            "y_test shape: (10000, 1)\n"
          ]
        }
      ]
    },
    {
      "cell_type": "code",
      "source": [
        "network.fit(X_train, Y_train, epochs=15, batch_size=128)"
      ],
      "metadata": {
        "colab": {
          "base_uri": "https://localhost:8080/"
        },
        "id": "f3s13Tg9ILs1",
        "outputId": "4f558d11-99b4-4c59-b488-5f646a5d58f2"
      },
      "execution_count": 14,
      "outputs": [
        {
          "output_type": "stream",
          "name": "stdout",
          "text": [
            "Epoch 1/15\n",
            "391/391 [==============================] - 13s 33ms/step - loss: 1.4952 - accuracy: 0.4700\n",
            "Epoch 2/15\n",
            "391/391 [==============================] - 13s 33ms/step - loss: 1.4734 - accuracy: 0.4747\n",
            "Epoch 3/15\n",
            "391/391 [==============================] - 13s 33ms/step - loss: 1.4543 - accuracy: 0.4802\n",
            "Epoch 4/15\n",
            "391/391 [==============================] - 13s 33ms/step - loss: 1.4362 - accuracy: 0.4909\n",
            "Epoch 5/15\n",
            "391/391 [==============================] - 13s 33ms/step - loss: 1.4195 - accuracy: 0.4951\n",
            "Epoch 6/15\n",
            "391/391 [==============================] - 13s 33ms/step - loss: 1.4010 - accuracy: 0.5032\n",
            "Epoch 7/15\n",
            "391/391 [==============================] - 13s 33ms/step - loss: 1.3872 - accuracy: 0.5071\n",
            "Epoch 8/15\n",
            "391/391 [==============================] - 13s 34ms/step - loss: 1.3727 - accuracy: 0.5114\n",
            "Epoch 9/15\n",
            "391/391 [==============================] - 13s 34ms/step - loss: 1.3579 - accuracy: 0.5178\n",
            "Epoch 10/15\n",
            "391/391 [==============================] - 13s 34ms/step - loss: 1.3435 - accuracy: 0.5223\n",
            "Epoch 11/15\n",
            "391/391 [==============================] - 13s 33ms/step - loss: 1.3315 - accuracy: 0.5265\n",
            "Epoch 12/15\n",
            "391/391 [==============================] - 13s 33ms/step - loss: 1.3193 - accuracy: 0.5311\n",
            "Epoch 13/15\n",
            "391/391 [==============================] - 13s 33ms/step - loss: 1.3040 - accuracy: 0.5366\n",
            "Epoch 14/15\n",
            "391/391 [==============================] - 13s 34ms/step - loss: 1.2927 - accuracy: 0.5407\n",
            "Epoch 15/15\n",
            "391/391 [==============================] - 13s 34ms/step - loss: 1.2820 - accuracy: 0.5425\n"
          ]
        },
        {
          "output_type": "execute_result",
          "data": {
            "text/plain": [
              "<keras.callbacks.History at 0x7fcbe0b9f050>"
            ]
          },
          "metadata": {},
          "execution_count": 14
        }
      ]
    },
    {
      "cell_type": "code",
      "source": [
        "test_loss, test_acc = network.evaluate(X_test, Y_test)"
      ],
      "metadata": {
        "colab": {
          "base_uri": "https://localhost:8080/"
        },
        "id": "xkNjGdryKceM",
        "outputId": "f1311358-ae17-4fd7-f1f1-e3481d2b63ee"
      },
      "execution_count": 15,
      "outputs": [
        {
          "output_type": "stream",
          "name": "stdout",
          "text": [
            "313/313 [==============================] - 2s 5ms/step - loss: 1.3593 - accuracy: 0.5163\n"
          ]
        }
      ]
    },
    {
      "cell_type": "code",
      "source": [
        "network.save('laba6_cifar.h5')"
      ],
      "metadata": {
        "id": "nALZbX2oKn-I"
      },
      "execution_count": 16,
      "outputs": []
    },
    {
      "cell_type": "code",
      "source": [
        ""
      ],
      "metadata": {
        "id": "00fl4-RtXPTr"
      },
      "execution_count": null,
      "outputs": []
    }
  ]
}